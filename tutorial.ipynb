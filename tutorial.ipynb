{
 "cells": [
  {
   "cell_type": "markdown",
   "id": "e03822c4-303f-4b1d-b4c9-3864cf8980d7",
   "metadata": {},
   "source": [
    "## Import module and load ST data"
   ]
  },
  {
   "cell_type": "code",
   "execution_count": 1,
   "id": "402396ce-29c0-48b5-b7a2-1d33a52bd12e",
   "metadata": {},
   "outputs": [],
   "source": [
    "import numpy as np \n",
    "import scanpy as sc\n",
    "from MicroMap import MicroMap"
   ]
  },
  {
   "cell_type": "code",
   "execution_count": 2,
   "id": "6b485f36-e1af-424c-aa0a-2838d1c32980",
   "metadata": {},
   "outputs": [
    {
     "data": {
      "text/plain": [
       "AnnData object with n_obs × n_vars = 613 × 15029\n",
       "    obs: 'pixel_x', 'pixel_y'\n",
       "    obsm: 'spatial'"
      ]
     },
     "execution_count": 2,
     "metadata": {},
     "output_type": "execute_result"
    }
   ],
   "source": [
    "adata = sc.read('./data/adata.h5ad')\n",
    "adata"
   ]
  },
  {
   "cell_type": "markdown",
   "id": "6a7adbf4-ef57-4c3d-a49c-b3865a32f0ab",
   "metadata": {},
   "source": [
    "## Construct and run with MicroMap object"
   ]
  },
  {
   "cell_type": "code",
   "execution_count": 3,
   "id": "cc852cab-428e-4c4d-8573-ee0e95f6abb3",
   "metadata": {},
   "outputs": [],
   "source": [
    "# construct \n",
    "micro =  MicroMap( device = 'cuda:0')"
   ]
  },
  {
   "cell_type": "code",
   "execution_count": 4,
   "id": "f0b3822f-2f86-4036-b45d-c9064637a1cf",
   "metadata": {},
   "outputs": [
    {
     "name": "stdout",
     "output_type": "stream",
     "text": [
      "Preprocessing spot level gene expression with 613 spots and 15029 genes ... \n",
      "Calculating spot specific prior ... \n"
     ]
    },
    {
     "name": "stderr",
     "output_type": "stream",
     "text": [
      "  0%|▌                                                                                                                    | 1/200 [00:01<05:07,  1.55s/it]"
     ]
    },
    {
     "name": "stdout",
     "output_type": "stream",
     "text": [
      "[Pretrain Epoch 0] total loss = 2355.5812\n"
     ]
    },
    {
     "name": "stderr",
     "output_type": "stream",
     "text": [
      "  1%|█▏                                                                                                                   | 2/200 [00:02<03:14,  1.02it/s]"
     ]
    },
    {
     "name": "stdout",
     "output_type": "stream",
     "text": [
      "[Pretrain Epoch 1] total loss = 590.7533\n"
     ]
    },
    {
     "name": "stderr",
     "output_type": "stream",
     "text": [
      "  2%|█▊                                                                                                                   | 3/200 [00:02<02:37,  1.25it/s]"
     ]
    },
    {
     "name": "stdout",
     "output_type": "stream",
     "text": [
      "[Pretrain Epoch 2] total loss = 545.8442\n"
     ]
    },
    {
     "name": "stderr",
     "output_type": "stream",
     "text": [
      "  2%|██▎                                                                                                                  | 4/200 [00:03<02:21,  1.38it/s]"
     ]
    },
    {
     "name": "stdout",
     "output_type": "stream",
     "text": [
      "[Pretrain Epoch 3] total loss = 550.0696\n"
     ]
    },
    {
     "name": "stderr",
     "output_type": "stream",
     "text": [
      "  2%|██▉                                                                                                                  | 5/200 [00:03<02:06,  1.54it/s]"
     ]
    },
    {
     "name": "stdout",
     "output_type": "stream",
     "text": [
      "[Pretrain Epoch 4] total loss = 520.4592\n"
     ]
    },
    {
     "name": "stderr",
     "output_type": "stream",
     "text": [
      "  3%|███▌                                                                                                                 | 6/200 [00:04<01:57,  1.66it/s]"
     ]
    },
    {
     "name": "stdout",
     "output_type": "stream",
     "text": [
      "[Pretrain Epoch 5] total loss = 519.5426\n"
     ]
    },
    {
     "name": "stderr",
     "output_type": "stream",
     "text": [
      "  4%|████                                                                                                                 | 7/200 [00:04<01:50,  1.75it/s]"
     ]
    },
    {
     "name": "stdout",
     "output_type": "stream",
     "text": [
      "[Pretrain Epoch 6] total loss = 518.4749\n"
     ]
    },
    {
     "name": "stderr",
     "output_type": "stream",
     "text": [
      "  4%|████▋                                                                                                                | 8/200 [00:05<01:46,  1.80it/s]"
     ]
    },
    {
     "name": "stdout",
     "output_type": "stream",
     "text": [
      "[Pretrain Epoch 7] total loss = 513.9958\n"
     ]
    },
    {
     "name": "stderr",
     "output_type": "stream",
     "text": [
      "  4%|█████▎                                                                                                               | 9/200 [00:05<01:45,  1.81it/s]"
     ]
    },
    {
     "name": "stdout",
     "output_type": "stream",
     "text": [
      "[Pretrain Epoch 8] total loss = 512.5597\n"
     ]
    },
    {
     "name": "stderr",
     "output_type": "stream",
     "text": [
      "  5%|█████▊                                                                                                              | 10/200 [00:06<01:41,  1.87it/s]"
     ]
    },
    {
     "name": "stdout",
     "output_type": "stream",
     "text": [
      "[Pretrain Epoch 9] total loss = 510.5192\n"
     ]
    },
    {
     "name": "stderr",
     "output_type": "stream",
     "text": [
      "  6%|██████▍                                                                                                             | 11/200 [00:06<01:39,  1.91it/s]"
     ]
    },
    {
     "name": "stdout",
     "output_type": "stream",
     "text": [
      "[Pretrain Epoch 10] total loss = 509.2820\n"
     ]
    },
    {
     "name": "stderr",
     "output_type": "stream",
     "text": [
      "  6%|██████▉                                                                                                             | 12/200 [00:07<01:37,  1.92it/s]"
     ]
    },
    {
     "name": "stdout",
     "output_type": "stream",
     "text": [
      "[Pretrain Epoch 11] total loss = 495.9090\n"
     ]
    },
    {
     "name": "stderr",
     "output_type": "stream",
     "text": [
      "  6%|███████▌                                                                                                            | 13/200 [00:07<01:38,  1.90it/s]"
     ]
    },
    {
     "name": "stdout",
     "output_type": "stream",
     "text": [
      "[Pretrain Epoch 12] total loss = 512.9212\n"
     ]
    },
    {
     "name": "stderr",
     "output_type": "stream",
     "text": [
      "  7%|████████                                                                                                            | 14/200 [00:08<01:38,  1.89it/s]"
     ]
    },
    {
     "name": "stdout",
     "output_type": "stream",
     "text": [
      "[Pretrain Epoch 13] total loss = 493.5630\n"
     ]
    },
    {
     "name": "stderr",
     "output_type": "stream",
     "text": [
      "  8%|████████▋                                                                                                           | 15/200 [00:09<01:44,  1.77it/s]"
     ]
    },
    {
     "name": "stdout",
     "output_type": "stream",
     "text": [
      "[Pretrain Epoch 14] total loss = 486.1029\n"
     ]
    },
    {
     "name": "stderr",
     "output_type": "stream",
     "text": [
      "  8%|█████████▎                                                                                                          | 16/200 [00:09<01:41,  1.82it/s]"
     ]
    },
    {
     "name": "stdout",
     "output_type": "stream",
     "text": [
      "[Pretrain Epoch 15] total loss = 487.5651\n"
     ]
    },
    {
     "name": "stderr",
     "output_type": "stream",
     "text": [
      "  8%|█████████▊                                                                                                          | 17/200 [00:10<01:39,  1.84it/s]"
     ]
    },
    {
     "name": "stdout",
     "output_type": "stream",
     "text": [
      "[Pretrain Epoch 16] total loss = 489.2210\n"
     ]
    },
    {
     "name": "stderr",
     "output_type": "stream",
     "text": [
      "  9%|██████████▍                                                                                                         | 18/200 [00:10<01:37,  1.86it/s]"
     ]
    },
    {
     "name": "stdout",
     "output_type": "stream",
     "text": [
      "[Pretrain Epoch 17] total loss = 487.1312\n"
     ]
    },
    {
     "name": "stderr",
     "output_type": "stream",
     "text": [
      " 10%|███████████                                                                                                         | 19/200 [00:11<01:34,  1.91it/s]"
     ]
    },
    {
     "name": "stdout",
     "output_type": "stream",
     "text": [
      "[Pretrain Epoch 18] total loss = 478.3783\n"
     ]
    },
    {
     "name": "stderr",
     "output_type": "stream",
     "text": [
      " 10%|███████████▌                                                                                                        | 20/200 [00:11<01:34,  1.91it/s]"
     ]
    },
    {
     "name": "stdout",
     "output_type": "stream",
     "text": [
      "[Pretrain Epoch 19] total loss = 465.7364\n"
     ]
    },
    {
     "name": "stderr",
     "output_type": "stream",
     "text": [
      " 10%|████████████▏                                                                                                       | 21/200 [00:12<01:32,  1.93it/s]"
     ]
    },
    {
     "name": "stdout",
     "output_type": "stream",
     "text": [
      "[Pretrain Epoch 20] total loss = 468.8394\n"
     ]
    },
    {
     "name": "stderr",
     "output_type": "stream",
     "text": [
      " 11%|████████████▊                                                                                                       | 22/200 [00:12<01:32,  1.93it/s]"
     ]
    },
    {
     "name": "stdout",
     "output_type": "stream",
     "text": [
      "[Pretrain Epoch 21] total loss = 460.7033\n"
     ]
    },
    {
     "name": "stderr",
     "output_type": "stream",
     "text": [
      " 12%|█████████████▎                                                                                                      | 23/200 [00:13<01:35,  1.86it/s]"
     ]
    },
    {
     "name": "stdout",
     "output_type": "stream",
     "text": [
      "[Pretrain Epoch 22] total loss = 468.1632\n"
     ]
    },
    {
     "name": "stderr",
     "output_type": "stream",
     "text": [
      " 12%|█████████████▉                                                                                                      | 24/200 [00:13<01:35,  1.85it/s]"
     ]
    },
    {
     "name": "stdout",
     "output_type": "stream",
     "text": [
      "[Pretrain Epoch 23] total loss = 463.5530\n"
     ]
    },
    {
     "name": "stderr",
     "output_type": "stream",
     "text": [
      " 12%|██████████████▌                                                                                                     | 25/200 [00:14<01:37,  1.80it/s]"
     ]
    },
    {
     "name": "stdout",
     "output_type": "stream",
     "text": [
      "[Pretrain Epoch 24] total loss = 455.9776\n"
     ]
    },
    {
     "name": "stderr",
     "output_type": "stream",
     "text": [
      " 13%|███████████████                                                                                                     | 26/200 [00:15<01:35,  1.82it/s]"
     ]
    },
    {
     "name": "stdout",
     "output_type": "stream",
     "text": [
      "[Pretrain Epoch 25] total loss = 452.9884\n"
     ]
    },
    {
     "name": "stderr",
     "output_type": "stream",
     "text": [
      " 14%|███████████████▋                                                                                                    | 27/200 [00:15<01:33,  1.85it/s]"
     ]
    },
    {
     "name": "stdout",
     "output_type": "stream",
     "text": [
      "[Pretrain Epoch 26] total loss = 451.5129\n"
     ]
    },
    {
     "name": "stderr",
     "output_type": "stream",
     "text": [
      " 14%|████████████████▏                                                                                                   | 28/200 [00:16<01:34,  1.81it/s]"
     ]
    },
    {
     "name": "stdout",
     "output_type": "stream",
     "text": [
      "[Pretrain Epoch 27] total loss = 451.7725\n"
     ]
    },
    {
     "name": "stderr",
     "output_type": "stream",
     "text": [
      " 14%|████████████████▊                                                                                                   | 29/200 [00:16<01:39,  1.73it/s]"
     ]
    },
    {
     "name": "stdout",
     "output_type": "stream",
     "text": [
      "[Pretrain Epoch 28] total loss = 443.2662\n"
     ]
    },
    {
     "name": "stderr",
     "output_type": "stream",
     "text": [
      " 15%|█████████████████▍                                                                                                  | 30/200 [00:17<01:34,  1.79it/s]"
     ]
    },
    {
     "name": "stdout",
     "output_type": "stream",
     "text": [
      "[Pretrain Epoch 29] total loss = 447.7944\n"
     ]
    },
    {
     "name": "stderr",
     "output_type": "stream",
     "text": [
      " 16%|█████████████████▉                                                                                                  | 31/200 [00:17<01:31,  1.85it/s]"
     ]
    },
    {
     "name": "stdout",
     "output_type": "stream",
     "text": [
      "[Pretrain Epoch 30] total loss = 444.6679\n"
     ]
    },
    {
     "name": "stderr",
     "output_type": "stream",
     "text": [
      " 16%|██████████████████▌                                                                                                 | 32/200 [00:18<01:29,  1.87it/s]"
     ]
    },
    {
     "name": "stdout",
     "output_type": "stream",
     "text": [
      "[Pretrain Epoch 31] total loss = 427.9899\n"
     ]
    },
    {
     "name": "stderr",
     "output_type": "stream",
     "text": [
      " 16%|███████████████████▏                                                                                                | 33/200 [00:18<01:28,  1.89it/s]"
     ]
    },
    {
     "name": "stdout",
     "output_type": "stream",
     "text": [
      "[Pretrain Epoch 32] total loss = 431.7293\n"
     ]
    },
    {
     "name": "stderr",
     "output_type": "stream",
     "text": [
      " 17%|███████████████████▋                                                                                                | 34/200 [00:19<01:29,  1.85it/s]"
     ]
    },
    {
     "name": "stdout",
     "output_type": "stream",
     "text": [
      "[Pretrain Epoch 33] total loss = 427.0718\n"
     ]
    },
    {
     "name": "stderr",
     "output_type": "stream",
     "text": [
      " 18%|████████████████████▎                                                                                               | 35/200 [00:20<01:35,  1.72it/s]"
     ]
    },
    {
     "name": "stdout",
     "output_type": "stream",
     "text": [
      "[Pretrain Epoch 34] total loss = 432.4957\n"
     ]
    },
    {
     "name": "stderr",
     "output_type": "stream",
     "text": [
      " 18%|████████████████████▉                                                                                               | 36/200 [00:20<01:32,  1.77it/s]"
     ]
    },
    {
     "name": "stdout",
     "output_type": "stream",
     "text": [
      "[Pretrain Epoch 35] total loss = 424.7704\n"
     ]
    },
    {
     "name": "stderr",
     "output_type": "stream",
     "text": [
      " 18%|█████████████████████▍                                                                                              | 37/200 [00:21<01:28,  1.83it/s]"
     ]
    },
    {
     "name": "stdout",
     "output_type": "stream",
     "text": [
      "[Pretrain Epoch 36] total loss = 420.0723\n"
     ]
    },
    {
     "name": "stderr",
     "output_type": "stream",
     "text": [
      " 19%|██████████████████████                                                                                              | 38/200 [00:21<01:27,  1.85it/s]"
     ]
    },
    {
     "name": "stdout",
     "output_type": "stream",
     "text": [
      "[Pretrain Epoch 37] total loss = 413.3365\n"
     ]
    },
    {
     "name": "stderr",
     "output_type": "stream",
     "text": [
      " 20%|██████████████████████▌                                                                                             | 39/200 [00:22<01:25,  1.88it/s]"
     ]
    },
    {
     "name": "stdout",
     "output_type": "stream",
     "text": [
      "[Pretrain Epoch 38] total loss = 424.0697\n"
     ]
    },
    {
     "name": "stderr",
     "output_type": "stream",
     "text": [
      " 20%|███████████████████████▏                                                                                            | 40/200 [00:22<01:26,  1.85it/s]"
     ]
    },
    {
     "name": "stdout",
     "output_type": "stream",
     "text": [
      "[Pretrain Epoch 39] total loss = 411.6736\n"
     ]
    },
    {
     "name": "stderr",
     "output_type": "stream",
     "text": [
      " 20%|███████████████████████▊                                                                                            | 41/200 [00:23<01:32,  1.72it/s]"
     ]
    },
    {
     "name": "stdout",
     "output_type": "stream",
     "text": [
      "[Pretrain Epoch 40] total loss = 416.0038\n"
     ]
    },
    {
     "name": "stderr",
     "output_type": "stream",
     "text": [
      " 21%|████████████████████████▎                                                                                           | 42/200 [00:23<01:28,  1.78it/s]"
     ]
    },
    {
     "name": "stdout",
     "output_type": "stream",
     "text": [
      "[Pretrain Epoch 41] total loss = 409.3564\n"
     ]
    },
    {
     "name": "stderr",
     "output_type": "stream",
     "text": [
      " 22%|████████████████████████▉                                                                                           | 43/200 [00:24<01:25,  1.84it/s]"
     ]
    },
    {
     "name": "stdout",
     "output_type": "stream",
     "text": [
      "[Pretrain Epoch 42] total loss = 399.1400\n"
     ]
    },
    {
     "name": "stderr",
     "output_type": "stream",
     "text": [
      " 22%|█████████████████████████▌                                                                                          | 44/200 [00:24<01:24,  1.86it/s]"
     ]
    },
    {
     "name": "stdout",
     "output_type": "stream",
     "text": [
      "[Pretrain Epoch 43] total loss = 397.7862\n"
     ]
    },
    {
     "name": "stderr",
     "output_type": "stream",
     "text": [
      " 22%|██████████████████████████                                                                                          | 45/200 [00:25<01:24,  1.84it/s]"
     ]
    },
    {
     "name": "stdout",
     "output_type": "stream",
     "text": [
      "[Pretrain Epoch 44] total loss = 396.6713\n"
     ]
    },
    {
     "name": "stderr",
     "output_type": "stream",
     "text": [
      " 23%|██████████████████████████▋                                                                                         | 46/200 [00:26<01:29,  1.72it/s]"
     ]
    },
    {
     "name": "stdout",
     "output_type": "stream",
     "text": [
      "[Pretrain Epoch 45] total loss = 395.4650\n"
     ]
    },
    {
     "name": "stderr",
     "output_type": "stream",
     "text": [
      " 24%|███████████████████████████▎                                                                                        | 47/200 [00:26<01:25,  1.78it/s]"
     ]
    },
    {
     "name": "stdout",
     "output_type": "stream",
     "text": [
      "[Pretrain Epoch 46] total loss = 396.0015\n"
     ]
    },
    {
     "name": "stderr",
     "output_type": "stream",
     "text": [
      " 24%|███████████████████████████▊                                                                                        | 48/200 [00:27<01:23,  1.83it/s]"
     ]
    },
    {
     "name": "stdout",
     "output_type": "stream",
     "text": [
      "[Pretrain Epoch 47] total loss = 393.8636\n"
     ]
    },
    {
     "name": "stderr",
     "output_type": "stream",
     "text": [
      " 24%|████████████████████████████▍                                                                                       | 49/200 [00:27<01:21,  1.85it/s]"
     ]
    },
    {
     "name": "stdout",
     "output_type": "stream",
     "text": [
      "[Pretrain Epoch 48] total loss = 384.4868\n"
     ]
    },
    {
     "name": "stderr",
     "output_type": "stream",
     "text": [
      " 25%|█████████████████████████████                                                                                       | 50/200 [00:28<01:22,  1.81it/s]"
     ]
    },
    {
     "name": "stdout",
     "output_type": "stream",
     "text": [
      "[Pretrain Epoch 49] total loss = 395.8134\n"
     ]
    },
    {
     "name": "stderr",
     "output_type": "stream",
     "text": [
      " 26%|█████████████████████████████▌                                                                                      | 51/200 [00:28<01:26,  1.72it/s]"
     ]
    },
    {
     "name": "stdout",
     "output_type": "stream",
     "text": [
      "[Pretrain Epoch 50] total loss = 381.2406\n"
     ]
    },
    {
     "name": "stderr",
     "output_type": "stream",
     "text": [
      " 26%|██████████████████████████████▏                                                                                     | 52/200 [00:29<01:22,  1.79it/s]"
     ]
    },
    {
     "name": "stdout",
     "output_type": "stream",
     "text": [
      "[Pretrain Epoch 51] total loss = 383.4900\n"
     ]
    },
    {
     "name": "stderr",
     "output_type": "stream",
     "text": [
      " 26%|██████████████████████████████▋                                                                                     | 53/200 [00:29<01:20,  1.83it/s]"
     ]
    },
    {
     "name": "stdout",
     "output_type": "stream",
     "text": [
      "[Pretrain Epoch 52] total loss = 383.3150\n"
     ]
    },
    {
     "name": "stderr",
     "output_type": "stream",
     "text": [
      " 27%|███████████████████████████████▎                                                                                    | 54/200 [00:30<01:19,  1.84it/s]"
     ]
    },
    {
     "name": "stdout",
     "output_type": "stream",
     "text": [
      "[Pretrain Epoch 53] total loss = 373.3780\n"
     ]
    },
    {
     "name": "stderr",
     "output_type": "stream",
     "text": [
      " 28%|███████████████████████████████▉                                                                                    | 55/200 [00:30<01:16,  1.89it/s]"
     ]
    },
    {
     "name": "stdout",
     "output_type": "stream",
     "text": [
      "[Pretrain Epoch 54] total loss = 376.1708\n"
     ]
    },
    {
     "name": "stderr",
     "output_type": "stream",
     "text": [
      " 28%|████████████████████████████████▍                                                                                   | 56/200 [00:31<01:16,  1.89it/s]"
     ]
    },
    {
     "name": "stdout",
     "output_type": "stream",
     "text": [
      "[Pretrain Epoch 55] total loss = 375.7895\n"
     ]
    },
    {
     "name": "stderr",
     "output_type": "stream",
     "text": [
      " 28%|█████████████████████████████████                                                                                   | 57/200 [00:32<01:16,  1.87it/s]"
     ]
    },
    {
     "name": "stdout",
     "output_type": "stream",
     "text": [
      "[Pretrain Epoch 56] total loss = 373.5702\n"
     ]
    },
    {
     "name": "stderr",
     "output_type": "stream",
     "text": [
      " 29%|█████████████████████████████████▋                                                                                  | 58/200 [00:32<01:15,  1.87it/s]"
     ]
    },
    {
     "name": "stdout",
     "output_type": "stream",
     "text": [
      "[Pretrain Epoch 57] total loss = 368.2495\n"
     ]
    },
    {
     "name": "stderr",
     "output_type": "stream",
     "text": [
      " 30%|██████████████████████████████████▏                                                                                 | 59/200 [00:33<01:15,  1.87it/s]"
     ]
    },
    {
     "name": "stdout",
     "output_type": "stream",
     "text": [
      "[Pretrain Epoch 58] total loss = 367.3331\n"
     ]
    },
    {
     "name": "stderr",
     "output_type": "stream",
     "text": [
      " 30%|██████████████████████████████████▊                                                                                 | 60/200 [00:33<01:14,  1.88it/s]"
     ]
    },
    {
     "name": "stdout",
     "output_type": "stream",
     "text": [
      "[Pretrain Epoch 59] total loss = 364.2036\n"
     ]
    },
    {
     "name": "stderr",
     "output_type": "stream",
     "text": [
      " 30%|███████████████████████████████████▍                                                                                | 61/200 [00:34<01:13,  1.90it/s]"
     ]
    },
    {
     "name": "stdout",
     "output_type": "stream",
     "text": [
      "[Pretrain Epoch 60] total loss = 362.6637\n"
     ]
    },
    {
     "name": "stderr",
     "output_type": "stream",
     "text": [
      " 31%|███████████████████████████████████▉                                                                                | 62/200 [00:34<01:15,  1.83it/s]"
     ]
    },
    {
     "name": "stdout",
     "output_type": "stream",
     "text": [
      "[Pretrain Epoch 61] total loss = 367.9414\n"
     ]
    },
    {
     "name": "stderr",
     "output_type": "stream",
     "text": [
      " 32%|████████████████████████████████████▌                                                                               | 63/200 [00:35<01:14,  1.84it/s]"
     ]
    },
    {
     "name": "stdout",
     "output_type": "stream",
     "text": [
      "[Pretrain Epoch 62] total loss = 357.9992\n"
     ]
    },
    {
     "name": "stderr",
     "output_type": "stream",
     "text": [
      " 32%|█████████████████████████████████████                                                                               | 64/200 [00:35<01:13,  1.86it/s]"
     ]
    },
    {
     "name": "stdout",
     "output_type": "stream",
     "text": [
      "[Pretrain Epoch 63] total loss = 362.4651\n"
     ]
    },
    {
     "name": "stderr",
     "output_type": "stream",
     "text": [
      " 32%|█████████████████████████████████████▋                                                                              | 65/200 [00:36<01:11,  1.89it/s]"
     ]
    },
    {
     "name": "stdout",
     "output_type": "stream",
     "text": [
      "[Pretrain Epoch 64] total loss = 353.6755\n"
     ]
    },
    {
     "name": "stderr",
     "output_type": "stream",
     "text": [
      " 33%|██████████████████████████████████████▎                                                                             | 66/200 [00:36<01:10,  1.91it/s]"
     ]
    },
    {
     "name": "stdout",
     "output_type": "stream",
     "text": [
      "[Pretrain Epoch 65] total loss = 352.9726\n"
     ]
    },
    {
     "name": "stderr",
     "output_type": "stream",
     "text": [
      " 34%|██████████████████████████████████████▊                                                                             | 67/200 [00:37<01:08,  1.93it/s]"
     ]
    },
    {
     "name": "stdout",
     "output_type": "stream",
     "text": [
      "[Pretrain Epoch 66] total loss = 347.3662\n"
     ]
    },
    {
     "name": "stderr",
     "output_type": "stream",
     "text": [
      " 34%|███████████████████████████████████████▍                                                                            | 68/200 [00:37<01:08,  1.93it/s]"
     ]
    },
    {
     "name": "stdout",
     "output_type": "stream",
     "text": [
      "[Pretrain Epoch 67] total loss = 349.4013\n"
     ]
    },
    {
     "name": "stderr",
     "output_type": "stream",
     "text": [
      " 34%|████████████████████████████████████████                                                                            | 69/200 [00:38<01:11,  1.82it/s]"
     ]
    },
    {
     "name": "stdout",
     "output_type": "stream",
     "text": [
      "[Pretrain Epoch 68] total loss = 344.5765\n"
     ]
    },
    {
     "name": "stderr",
     "output_type": "stream",
     "text": [
      " 35%|████████████████████████████████████████▌                                                                           | 70/200 [00:39<01:15,  1.73it/s]"
     ]
    },
    {
     "name": "stdout",
     "output_type": "stream",
     "text": [
      "[Pretrain Epoch 69] total loss = 337.8867\n"
     ]
    },
    {
     "name": "stderr",
     "output_type": "stream",
     "text": [
      " 36%|█████████████████████████████████████████▏                                                                          | 71/200 [00:39<01:13,  1.76it/s]"
     ]
    },
    {
     "name": "stdout",
     "output_type": "stream",
     "text": [
      "[Pretrain Epoch 70] total loss = 342.0294\n"
     ]
    },
    {
     "name": "stderr",
     "output_type": "stream",
     "text": [
      " 36%|█████████████████████████████████████████▊                                                                          | 72/200 [00:40<01:13,  1.75it/s]"
     ]
    },
    {
     "name": "stdout",
     "output_type": "stream",
     "text": [
      "[Pretrain Epoch 71] total loss = 337.1501\n"
     ]
    },
    {
     "name": "stderr",
     "output_type": "stream",
     "text": [
      " 36%|██████████████████████████████████████████▎                                                                         | 73/200 [00:40<01:15,  1.69it/s]"
     ]
    },
    {
     "name": "stdout",
     "output_type": "stream",
     "text": [
      "[Pretrain Epoch 72] total loss = 336.8708\n"
     ]
    },
    {
     "name": "stderr",
     "output_type": "stream",
     "text": [
      " 37%|██████████████████████████████████████████▉                                                                         | 74/200 [00:41<01:12,  1.75it/s]"
     ]
    },
    {
     "name": "stdout",
     "output_type": "stream",
     "text": [
      "[Pretrain Epoch 73] total loss = 336.1430\n"
     ]
    },
    {
     "name": "stderr",
     "output_type": "stream",
     "text": [
      " 38%|███████████████████████████████████████████▌                                                                        | 75/200 [00:41<01:10,  1.78it/s]"
     ]
    },
    {
     "name": "stdout",
     "output_type": "stream",
     "text": [
      "[Pretrain Epoch 74] total loss = 341.1857\n"
     ]
    },
    {
     "name": "stderr",
     "output_type": "stream",
     "text": [
      " 38%|████████████████████████████████████████████                                                                        | 76/200 [00:42<01:07,  1.84it/s]"
     ]
    },
    {
     "name": "stdout",
     "output_type": "stream",
     "text": [
      "[Pretrain Epoch 75] total loss = 348.5580\n"
     ]
    },
    {
     "name": "stderr",
     "output_type": "stream",
     "text": [
      " 38%|████████████████████████████████████████████▋                                                                       | 77/200 [00:42<01:06,  1.86it/s]"
     ]
    },
    {
     "name": "stdout",
     "output_type": "stream",
     "text": [
      "[Pretrain Epoch 76] total loss = 332.5880\n"
     ]
    },
    {
     "name": "stderr",
     "output_type": "stream",
     "text": [
      " 39%|█████████████████████████████████████████████▏                                                                      | 78/200 [00:43<01:05,  1.86it/s]"
     ]
    },
    {
     "name": "stdout",
     "output_type": "stream",
     "text": [
      "[Pretrain Epoch 77] total loss = 338.6417\n"
     ]
    },
    {
     "name": "stderr",
     "output_type": "stream",
     "text": [
      " 40%|█████████████████████████████████████████████▊                                                                      | 79/200 [00:44<01:08,  1.76it/s]"
     ]
    },
    {
     "name": "stdout",
     "output_type": "stream",
     "text": [
      "[Pretrain Epoch 78] total loss = 334.1053\n"
     ]
    },
    {
     "name": "stderr",
     "output_type": "stream",
     "text": [
      " 40%|██████████████████████████████████████████████▍                                                                     | 80/200 [00:44<01:06,  1.79it/s]"
     ]
    },
    {
     "name": "stdout",
     "output_type": "stream",
     "text": [
      "[Pretrain Epoch 79] total loss = 328.3277\n"
     ]
    },
    {
     "name": "stderr",
     "output_type": "stream",
     "text": [
      " 40%|██████████████████████████████████████████████▉                                                                     | 81/200 [00:45<01:07,  1.77it/s]"
     ]
    },
    {
     "name": "stdout",
     "output_type": "stream",
     "text": [
      "[Pretrain Epoch 80] total loss = 334.5551\n"
     ]
    },
    {
     "name": "stderr",
     "output_type": "stream",
     "text": [
      " 41%|███████████████████████████████████████████████▌                                                                    | 82/200 [00:45<01:08,  1.72it/s]"
     ]
    },
    {
     "name": "stdout",
     "output_type": "stream",
     "text": [
      "[Pretrain Epoch 81] total loss = 338.6999\n"
     ]
    },
    {
     "name": "stderr",
     "output_type": "stream",
     "text": [
      " 42%|████████████████████████████████████████████████▏                                                                   | 83/200 [00:46<01:06,  1.77it/s]"
     ]
    },
    {
     "name": "stdout",
     "output_type": "stream",
     "text": [
      "[Pretrain Epoch 82] total loss = 332.6532\n"
     ]
    },
    {
     "name": "stderr",
     "output_type": "stream",
     "text": [
      " 42%|████████████████████████████████████████████████▋                                                                   | 84/200 [00:46<01:04,  1.81it/s]"
     ]
    },
    {
     "name": "stdout",
     "output_type": "stream",
     "text": [
      "[Pretrain Epoch 83] total loss = 327.3160\n"
     ]
    },
    {
     "name": "stderr",
     "output_type": "stream",
     "text": [
      " 42%|█████████████████████████████████████████████████▎                                                                  | 85/200 [00:47<01:01,  1.86it/s]"
     ]
    },
    {
     "name": "stdout",
     "output_type": "stream",
     "text": [
      "[Pretrain Epoch 84] total loss = 325.1420\n"
     ]
    },
    {
     "name": "stderr",
     "output_type": "stream",
     "text": [
      " 43%|█████████████████████████████████████████████████▉                                                                  | 86/200 [00:47<01:01,  1.87it/s]"
     ]
    },
    {
     "name": "stdout",
     "output_type": "stream",
     "text": [
      "[Pretrain Epoch 85] total loss = 325.7869\n"
     ]
    },
    {
     "name": "stderr",
     "output_type": "stream",
     "text": [
      " 44%|██████████████████████████████████████████████████▍                                                                 | 87/200 [00:48<00:59,  1.90it/s]"
     ]
    },
    {
     "name": "stdout",
     "output_type": "stream",
     "text": [
      "[Pretrain Epoch 86] total loss = 323.6312\n"
     ]
    },
    {
     "name": "stderr",
     "output_type": "stream",
     "text": [
      " 44%|███████████████████████████████████████████████████                                                                 | 88/200 [00:49<01:01,  1.83it/s]"
     ]
    },
    {
     "name": "stdout",
     "output_type": "stream",
     "text": [
      "[Pretrain Epoch 87] total loss = 321.8047\n"
     ]
    },
    {
     "name": "stderr",
     "output_type": "stream",
     "text": [
      " 44%|███████████████████████████████████████████████████▌                                                                | 89/200 [00:49<01:03,  1.75it/s]"
     ]
    },
    {
     "name": "stdout",
     "output_type": "stream",
     "text": [
      "[Pretrain Epoch 88] total loss = 318.5701\n"
     ]
    },
    {
     "name": "stderr",
     "output_type": "stream",
     "text": [
      " 45%|████████████████████████████████████████████████████▏                                                               | 90/200 [00:50<01:01,  1.80it/s]"
     ]
    },
    {
     "name": "stdout",
     "output_type": "stream",
     "text": [
      "[Pretrain Epoch 89] total loss = 317.3854\n"
     ]
    },
    {
     "name": "stderr",
     "output_type": "stream",
     "text": [
      " 46%|████████████████████████████████████████████████████▊                                                               | 91/200 [00:50<00:58,  1.86it/s]"
     ]
    },
    {
     "name": "stdout",
     "output_type": "stream",
     "text": [
      "[Pretrain Epoch 90] total loss = 318.3545\n"
     ]
    },
    {
     "name": "stderr",
     "output_type": "stream",
     "text": [
      " 46%|█████████████████████████████████████████████████████▎                                                              | 92/200 [00:51<00:56,  1.90it/s]"
     ]
    },
    {
     "name": "stdout",
     "output_type": "stream",
     "text": [
      "[Pretrain Epoch 91] total loss = 315.0094\n"
     ]
    },
    {
     "name": "stderr",
     "output_type": "stream",
     "text": [
      " 46%|█████████████████████████████████████████████████████▉                                                              | 93/200 [00:51<00:56,  1.91it/s]"
     ]
    },
    {
     "name": "stdout",
     "output_type": "stream",
     "text": [
      "[Pretrain Epoch 92] total loss = 313.0065\n"
     ]
    },
    {
     "name": "stderr",
     "output_type": "stream",
     "text": [
      " 47%|██████████████████████████████████████████████████████▌                                                             | 94/200 [00:52<00:54,  1.94it/s]"
     ]
    },
    {
     "name": "stdout",
     "output_type": "stream",
     "text": [
      "[Pretrain Epoch 93] total loss = 315.5448\n"
     ]
    },
    {
     "name": "stderr",
     "output_type": "stream",
     "text": [
      " 48%|███████████████████████████████████████████████████████                                                             | 95/200 [00:52<00:54,  1.94it/s]"
     ]
    },
    {
     "name": "stdout",
     "output_type": "stream",
     "text": [
      "[Pretrain Epoch 94] total loss = 315.2556\n"
     ]
    },
    {
     "name": "stderr",
     "output_type": "stream",
     "text": [
      " 48%|███████████████████████████████████████████████████████▋                                                            | 96/200 [00:53<00:53,  1.94it/s]"
     ]
    },
    {
     "name": "stdout",
     "output_type": "stream",
     "text": [
      "[Pretrain Epoch 95] total loss = 311.0752\n"
     ]
    },
    {
     "name": "stderr",
     "output_type": "stream",
     "text": [
      " 48%|████████████████████████████████████████████████████████▎                                                           | 97/200 [00:53<00:54,  1.87it/s]"
     ]
    },
    {
     "name": "stdout",
     "output_type": "stream",
     "text": [
      "[Pretrain Epoch 96] total loss = 307.7408\n"
     ]
    },
    {
     "name": "stderr",
     "output_type": "stream",
     "text": [
      " 49%|████████████████████████████████████████████████████████▊                                                           | 98/200 [00:54<00:58,  1.73it/s]"
     ]
    },
    {
     "name": "stdout",
     "output_type": "stream",
     "text": [
      "[Pretrain Epoch 97] total loss = 306.5901\n"
     ]
    },
    {
     "name": "stderr",
     "output_type": "stream",
     "text": [
      " 50%|█████████████████████████████████████████████████████████▍                                                          | 99/200 [00:55<01:00,  1.68it/s]"
     ]
    },
    {
     "name": "stdout",
     "output_type": "stream",
     "text": [
      "[Pretrain Epoch 98] total loss = 308.8881\n"
     ]
    },
    {
     "name": "stderr",
     "output_type": "stream",
     "text": [
      " 50%|█████████████████████████████████████████████████████████▌                                                         | 100/200 [00:55<00:57,  1.75it/s]"
     ]
    },
    {
     "name": "stdout",
     "output_type": "stream",
     "text": [
      "[Pretrain Epoch 99] total loss = 313.0590\n"
     ]
    },
    {
     "name": "stderr",
     "output_type": "stream",
     "text": [
      " 50%|██████████████████████████████████████████████████████████                                                         | 101/200 [00:56<00:56,  1.74it/s]"
     ]
    },
    {
     "name": "stdout",
     "output_type": "stream",
     "text": [
      "[Pretrain Epoch 100] total loss = 304.2065\n"
     ]
    },
    {
     "name": "stderr",
     "output_type": "stream",
     "text": [
      " 51%|██████████████████████████████████████████████████████████▋                                                        | 102/200 [00:56<00:59,  1.63it/s]"
     ]
    },
    {
     "name": "stdout",
     "output_type": "stream",
     "text": [
      "[Pretrain Epoch 101] total loss = 308.7181\n"
     ]
    },
    {
     "name": "stderr",
     "output_type": "stream",
     "text": [
      " 52%|███████████████████████████████████████████████████████████▏                                                       | 103/200 [00:57<00:59,  1.63it/s]"
     ]
    },
    {
     "name": "stdout",
     "output_type": "stream",
     "text": [
      "[Pretrain Epoch 102] total loss = 299.0857\n"
     ]
    },
    {
     "name": "stderr",
     "output_type": "stream",
     "text": [
      " 52%|███████████████████████████████████████████████████████████▊                                                       | 104/200 [00:58<00:56,  1.70it/s]"
     ]
    },
    {
     "name": "stdout",
     "output_type": "stream",
     "text": [
      "[Pretrain Epoch 103] total loss = 306.7538\n"
     ]
    },
    {
     "name": "stderr",
     "output_type": "stream",
     "text": [
      " 52%|████████████████████████████████████████████████████████████▍                                                      | 105/200 [00:58<00:54,  1.75it/s]"
     ]
    },
    {
     "name": "stdout",
     "output_type": "stream",
     "text": [
      "[Pretrain Epoch 104] total loss = 300.4795\n"
     ]
    },
    {
     "name": "stderr",
     "output_type": "stream",
     "text": [
      " 53%|████████████████████████████████████████████████████████████▉                                                      | 106/200 [00:59<00:51,  1.82it/s]"
     ]
    },
    {
     "name": "stdout",
     "output_type": "stream",
     "text": [
      "[Pretrain Epoch 105] total loss = 290.9541\n"
     ]
    },
    {
     "name": "stderr",
     "output_type": "stream",
     "text": [
      " 54%|█████████████████████████████████████████████████████████████▌                                                     | 107/200 [00:59<00:49,  1.87it/s]"
     ]
    },
    {
     "name": "stdout",
     "output_type": "stream",
     "text": [
      "[Pretrain Epoch 106] total loss = 303.9613\n"
     ]
    },
    {
     "name": "stderr",
     "output_type": "stream",
     "text": [
      " 54%|██████████████████████████████████████████████████████████████                                                     | 108/200 [01:00<00:48,  1.88it/s]"
     ]
    },
    {
     "name": "stdout",
     "output_type": "stream",
     "text": [
      "[Pretrain Epoch 107] total loss = 295.3368\n"
     ]
    },
    {
     "name": "stderr",
     "output_type": "stream",
     "text": [
      " 55%|██████████████████████████████████████████████████████████████▋                                                    | 109/200 [01:00<00:47,  1.90it/s]"
     ]
    },
    {
     "name": "stdout",
     "output_type": "stream",
     "text": [
      "[Pretrain Epoch 108] total loss = 295.6416\n"
     ]
    },
    {
     "name": "stderr",
     "output_type": "stream",
     "text": [
      " 55%|███████████████████████████████████████████████████████████████▎                                                   | 110/200 [01:01<00:46,  1.92it/s]"
     ]
    },
    {
     "name": "stdout",
     "output_type": "stream",
     "text": [
      "[Pretrain Epoch 109] total loss = 293.0830\n"
     ]
    },
    {
     "name": "stderr",
     "output_type": "stream",
     "text": [
      " 56%|███████████████████████████████████████████████████████████████▊                                                   | 111/200 [01:01<00:47,  1.86it/s]"
     ]
    },
    {
     "name": "stdout",
     "output_type": "stream",
     "text": [
      "[Pretrain Epoch 110] total loss = 292.3201\n"
     ]
    },
    {
     "name": "stderr",
     "output_type": "stream",
     "text": [
      " 56%|████████████████████████████████████████████████████████████████▍                                                  | 112/200 [01:02<00:46,  1.89it/s]"
     ]
    },
    {
     "name": "stdout",
     "output_type": "stream",
     "text": [
      "[Pretrain Epoch 111] total loss = 288.5205\n"
     ]
    },
    {
     "name": "stderr",
     "output_type": "stream",
     "text": [
      " 56%|████████████████████████████████████████████████████████████████▉                                                  | 113/200 [01:02<00:45,  1.91it/s]"
     ]
    },
    {
     "name": "stdout",
     "output_type": "stream",
     "text": [
      "[Pretrain Epoch 112] total loss = 295.0236\n"
     ]
    },
    {
     "name": "stderr",
     "output_type": "stream",
     "text": [
      " 57%|█████████████████████████████████████████████████████████████████▌                                                 | 114/200 [01:03<00:45,  1.89it/s]"
     ]
    },
    {
     "name": "stdout",
     "output_type": "stream",
     "text": [
      "[Pretrain Epoch 113] total loss = 287.9896\n"
     ]
    },
    {
     "name": "stderr",
     "output_type": "stream",
     "text": [
      " 57%|██████████████████████████████████████████████████████████████████▏                                                | 115/200 [01:03<00:44,  1.90it/s]"
     ]
    },
    {
     "name": "stdout",
     "output_type": "stream",
     "text": [
      "[Pretrain Epoch 114] total loss = 291.4546\n"
     ]
    },
    {
     "name": "stderr",
     "output_type": "stream",
     "text": [
      " 58%|██████████████████████████████████████████████████████████████████▋                                                | 116/200 [01:04<00:45,  1.83it/s]"
     ]
    },
    {
     "name": "stdout",
     "output_type": "stream",
     "text": [
      "[Pretrain Epoch 115] total loss = 288.8540\n"
     ]
    },
    {
     "name": "stderr",
     "output_type": "stream",
     "text": [
      " 58%|███████████████████████████████████████████████████████████████████▎                                               | 117/200 [01:04<00:46,  1.80it/s]"
     ]
    },
    {
     "name": "stdout",
     "output_type": "stream",
     "text": [
      "[Pretrain Epoch 116] total loss = 283.7799\n"
     ]
    },
    {
     "name": "stderr",
     "output_type": "stream",
     "text": [
      " 59%|███████████████████████████████████████████████████████████████████▊                                               | 118/200 [01:05<00:47,  1.72it/s]"
     ]
    },
    {
     "name": "stdout",
     "output_type": "stream",
     "text": [
      "[Pretrain Epoch 117] total loss = 278.4264\n"
     ]
    },
    {
     "name": "stderr",
     "output_type": "stream",
     "text": [
      " 60%|████████████████████████████████████████████████████████████████████▍                                              | 119/200 [01:06<00:45,  1.79it/s]"
     ]
    },
    {
     "name": "stdout",
     "output_type": "stream",
     "text": [
      "[Pretrain Epoch 118] total loss = 280.3250\n"
     ]
    },
    {
     "name": "stderr",
     "output_type": "stream",
     "text": [
      " 60%|█████████████████████████████████████████████████████████████████████                                              | 120/200 [01:06<00:43,  1.82it/s]"
     ]
    },
    {
     "name": "stdout",
     "output_type": "stream",
     "text": [
      "[Pretrain Epoch 119] total loss = 281.6183\n"
     ]
    },
    {
     "name": "stderr",
     "output_type": "stream",
     "text": [
      " 60%|█████████████████████████████████████████████████████████████████████▌                                             | 121/200 [01:07<00:44,  1.79it/s]"
     ]
    },
    {
     "name": "stdout",
     "output_type": "stream",
     "text": [
      "[Pretrain Epoch 120] total loss = 276.1875\n"
     ]
    },
    {
     "name": "stderr",
     "output_type": "stream",
     "text": [
      " 61%|██████████████████████████████████████████████████████████████████████▏                                            | 122/200 [01:07<00:45,  1.73it/s]"
     ]
    },
    {
     "name": "stdout",
     "output_type": "stream",
     "text": [
      "[Pretrain Epoch 121] total loss = 279.4659\n"
     ]
    },
    {
     "name": "stderr",
     "output_type": "stream",
     "text": [
      " 62%|██████████████████████████████████████████████████████████████████████▋                                            | 123/200 [01:08<00:42,  1.80it/s]"
     ]
    },
    {
     "name": "stdout",
     "output_type": "stream",
     "text": [
      "[Pretrain Epoch 122] total loss = 276.1067\n"
     ]
    },
    {
     "name": "stderr",
     "output_type": "stream",
     "text": [
      " 62%|███████████████████████████████████████████████████████████████████████▎                                           | 124/200 [01:08<00:40,  1.86it/s]"
     ]
    },
    {
     "name": "stdout",
     "output_type": "stream",
     "text": [
      "[Pretrain Epoch 123] total loss = 284.4664\n"
     ]
    },
    {
     "name": "stderr",
     "output_type": "stream",
     "text": [
      " 62%|███████████████████████████████████████████████████████████████████████▉                                           | 125/200 [01:09<00:40,  1.86it/s]"
     ]
    },
    {
     "name": "stdout",
     "output_type": "stream",
     "text": [
      "[Pretrain Epoch 124] total loss = 276.8910\n"
     ]
    },
    {
     "name": "stderr",
     "output_type": "stream",
     "text": [
      " 63%|████████████████████████████████████████████████████████████████████████▍                                          | 126/200 [01:10<00:41,  1.77it/s]"
     ]
    },
    {
     "name": "stdout",
     "output_type": "stream",
     "text": [
      "[Pretrain Epoch 125] total loss = 271.9186\n"
     ]
    },
    {
     "name": "stderr",
     "output_type": "stream",
     "text": [
      " 64%|█████████████████████████████████████████████████████████████████████████                                          | 127/200 [01:10<00:40,  1.81it/s]"
     ]
    },
    {
     "name": "stdout",
     "output_type": "stream",
     "text": [
      "[Pretrain Epoch 126] total loss = 272.6198\n"
     ]
    },
    {
     "name": "stderr",
     "output_type": "stream",
     "text": [
      " 64%|█████████████████████████████████████████████████████████████████████████▌                                         | 128/200 [01:11<00:38,  1.87it/s]"
     ]
    },
    {
     "name": "stdout",
     "output_type": "stream",
     "text": [
      "[Pretrain Epoch 127] total loss = 273.9519\n"
     ]
    },
    {
     "name": "stderr",
     "output_type": "stream",
     "text": [
      " 64%|██████████████████████████████████████████████████████████████████████████▏                                        | 129/200 [01:11<00:37,  1.90it/s]"
     ]
    },
    {
     "name": "stdout",
     "output_type": "stream",
     "text": [
      "[Pretrain Epoch 128] total loss = 273.3704\n"
     ]
    },
    {
     "name": "stderr",
     "output_type": "stream",
     "text": [
      " 65%|██████████████████████████████████████████████████████████████████████████▊                                        | 130/200 [01:12<00:36,  1.92it/s]"
     ]
    },
    {
     "name": "stdout",
     "output_type": "stream",
     "text": [
      "[Pretrain Epoch 129] total loss = 268.4241\n"
     ]
    },
    {
     "name": "stderr",
     "output_type": "stream",
     "text": [
      " 66%|███████████████████████████████████████████████████████████████████████████▎                                       | 131/200 [01:12<00:37,  1.85it/s]"
     ]
    },
    {
     "name": "stdout",
     "output_type": "stream",
     "text": [
      "[Pretrain Epoch 130] total loss = 267.6568\n"
     ]
    },
    {
     "name": "stderr",
     "output_type": "stream",
     "text": [
      " 66%|███████████████████████████████████████████████████████████████████████████▉                                       | 132/200 [01:13<00:38,  1.75it/s]"
     ]
    },
    {
     "name": "stdout",
     "output_type": "stream",
     "text": [
      "[Pretrain Epoch 131] total loss = 265.8267\n"
     ]
    },
    {
     "name": "stderr",
     "output_type": "stream",
     "text": [
      " 66%|████████████████████████████████████████████████████████████████████████████▍                                      | 133/200 [01:13<00:37,  1.79it/s]"
     ]
    },
    {
     "name": "stdout",
     "output_type": "stream",
     "text": [
      "[Pretrain Epoch 132] total loss = 266.4043\n"
     ]
    },
    {
     "name": "stderr",
     "output_type": "stream",
     "text": [
      " 67%|█████████████████████████████████████████████████████████████████████████████                                      | 134/200 [01:14<00:37,  1.76it/s]"
     ]
    },
    {
     "name": "stdout",
     "output_type": "stream",
     "text": [
      "[Pretrain Epoch 133] total loss = 270.7253\n"
     ]
    },
    {
     "name": "stderr",
     "output_type": "stream",
     "text": [
      " 68%|█████████████████████████████████████████████████████████████████████████████▋                                     | 135/200 [01:15<00:37,  1.71it/s]"
     ]
    },
    {
     "name": "stdout",
     "output_type": "stream",
     "text": [
      "[Pretrain Epoch 134] total loss = 265.5536\n"
     ]
    },
    {
     "name": "stderr",
     "output_type": "stream",
     "text": [
      " 68%|██████████████████████████████████████████████████████████████████████████████▏                                    | 136/200 [01:15<00:36,  1.77it/s]"
     ]
    },
    {
     "name": "stdout",
     "output_type": "stream",
     "text": [
      "[Pretrain Epoch 135] total loss = 266.6025\n"
     ]
    },
    {
     "name": "stderr",
     "output_type": "stream",
     "text": [
      " 68%|██████████████████████████████████████████████████████████████████████████████▊                                    | 137/200 [01:16<00:34,  1.82it/s]"
     ]
    },
    {
     "name": "stdout",
     "output_type": "stream",
     "text": [
      "[Pretrain Epoch 136] total loss = 260.1117\n"
     ]
    },
    {
     "name": "stderr",
     "output_type": "stream",
     "text": [
      " 69%|███████████████████████████████████████████████████████████████████████████████▎                                   | 138/200 [01:16<00:33,  1.86it/s]"
     ]
    },
    {
     "name": "stdout",
     "output_type": "stream",
     "text": [
      "[Pretrain Epoch 137] total loss = 266.6855\n"
     ]
    },
    {
     "name": "stderr",
     "output_type": "stream",
     "text": [
      " 70%|███████████████████████████████████████████████████████████████████████████████▉                                   | 139/200 [01:17<00:32,  1.89it/s]"
     ]
    },
    {
     "name": "stdout",
     "output_type": "stream",
     "text": [
      "[Pretrain Epoch 138] total loss = 269.7394\n"
     ]
    },
    {
     "name": "stderr",
     "output_type": "stream",
     "text": [
      " 70%|████████████████████████████████████████████████████████████████████████████████▌                                  | 140/200 [01:17<00:31,  1.91it/s]"
     ]
    },
    {
     "name": "stdout",
     "output_type": "stream",
     "text": [
      "[Pretrain Epoch 139] total loss = 260.6655\n"
     ]
    },
    {
     "name": "stderr",
     "output_type": "stream",
     "text": [
      " 70%|█████████████████████████████████████████████████████████████████████████████████                                  | 141/200 [01:18<00:32,  1.83it/s]"
     ]
    },
    {
     "name": "stdout",
     "output_type": "stream",
     "text": [
      "[Pretrain Epoch 140] total loss = 260.7617\n"
     ]
    },
    {
     "name": "stderr",
     "output_type": "stream",
     "text": [
      " 71%|█████████████████████████████████████████████████████████████████████████████████▋                                 | 142/200 [01:18<00:33,  1.74it/s]"
     ]
    },
    {
     "name": "stdout",
     "output_type": "stream",
     "text": [
      "[Pretrain Epoch 141] total loss = 264.8125\n"
     ]
    },
    {
     "name": "stderr",
     "output_type": "stream",
     "text": [
      " 72%|██████████████████████████████████████████████████████████████████████████████████▏                                | 143/200 [01:19<00:31,  1.79it/s]"
     ]
    },
    {
     "name": "stdout",
     "output_type": "stream",
     "text": [
      "[Pretrain Epoch 142] total loss = 262.1726\n"
     ]
    },
    {
     "name": "stderr",
     "output_type": "stream",
     "text": [
      " 72%|██████████████████████████████████████████████████████████████████████████████████▊                                | 144/200 [01:19<00:31,  1.76it/s]"
     ]
    },
    {
     "name": "stdout",
     "output_type": "stream",
     "text": [
      "[Pretrain Epoch 143] total loss = 255.2479\n"
     ]
    },
    {
     "name": "stderr",
     "output_type": "stream",
     "text": [
      " 72%|███████████████████████████████████████████████████████████████████████████████████▍                               | 145/200 [01:20<00:32,  1.69it/s]"
     ]
    },
    {
     "name": "stdout",
     "output_type": "stream",
     "text": [
      "[Pretrain Epoch 144] total loss = 256.2087\n"
     ]
    },
    {
     "name": "stderr",
     "output_type": "stream",
     "text": [
      " 73%|███████████████████████████████████████████████████████████████████████████████████▉                               | 146/200 [01:21<00:30,  1.76it/s]"
     ]
    },
    {
     "name": "stdout",
     "output_type": "stream",
     "text": [
      "[Pretrain Epoch 145] total loss = 260.3364\n"
     ]
    },
    {
     "name": "stderr",
     "output_type": "stream",
     "text": [
      " 74%|████████████████████████████████████████████████████████████████████████████████████▌                              | 147/200 [01:21<00:29,  1.80it/s]"
     ]
    },
    {
     "name": "stdout",
     "output_type": "stream",
     "text": [
      "[Pretrain Epoch 146] total loss = 253.3415\n"
     ]
    },
    {
     "name": "stderr",
     "output_type": "stream",
     "text": [
      " 74%|█████████████████████████████████████████████████████████████████████████████████████                              | 148/200 [01:22<00:28,  1.85it/s]"
     ]
    },
    {
     "name": "stdout",
     "output_type": "stream",
     "text": [
      "[Pretrain Epoch 147] total loss = 257.2466\n"
     ]
    },
    {
     "name": "stderr",
     "output_type": "stream",
     "text": [
      " 74%|█████████████████████████████████████████████████████████████████████████████████████▋                             | 149/200 [01:22<00:27,  1.88it/s]"
     ]
    },
    {
     "name": "stdout",
     "output_type": "stream",
     "text": [
      "[Pretrain Epoch 148] total loss = 247.3384\n"
     ]
    },
    {
     "name": "stderr",
     "output_type": "stream",
     "text": [
      " 75%|██████████████████████████████████████████████████████████████████████████████████████▎                            | 150/200 [01:23<00:25,  1.92it/s]"
     ]
    },
    {
     "name": "stdout",
     "output_type": "stream",
     "text": [
      "[Pretrain Epoch 149] total loss = 254.5890\n"
     ]
    },
    {
     "name": "stderr",
     "output_type": "stream",
     "text": [
      " 76%|██████████████████████████████████████████████████████████████████████████████████████▊                            | 151/200 [01:23<00:26,  1.87it/s]"
     ]
    },
    {
     "name": "stdout",
     "output_type": "stream",
     "text": [
      "[Pretrain Epoch 150] total loss = 255.0323\n"
     ]
    },
    {
     "name": "stderr",
     "output_type": "stream",
     "text": [
      " 76%|███████████████████████████████████████████████████████████████████████████████████████▍                           | 152/200 [01:24<00:27,  1.75it/s]"
     ]
    },
    {
     "name": "stdout",
     "output_type": "stream",
     "text": [
      "[Pretrain Epoch 151] total loss = 246.8612\n"
     ]
    },
    {
     "name": "stderr",
     "output_type": "stream",
     "text": [
      " 76%|███████████████████████████████████████████████████████████████████████████████████████▉                           | 153/200 [01:24<00:26,  1.74it/s]"
     ]
    },
    {
     "name": "stdout",
     "output_type": "stream",
     "text": [
      "[Pretrain Epoch 152] total loss = 253.8284\n"
     ]
    },
    {
     "name": "stderr",
     "output_type": "stream",
     "text": [
      " 77%|████████████████████████████████████████████████████████████████████████████████████████▌                          | 154/200 [01:25<00:27,  1.69it/s]"
     ]
    },
    {
     "name": "stdout",
     "output_type": "stream",
     "text": [
      "[Pretrain Epoch 153] total loss = 251.1129\n"
     ]
    },
    {
     "name": "stderr",
     "output_type": "stream",
     "text": [
      " 78%|█████████████████████████████████████████████████████████████████████████████████████████▏                         | 155/200 [01:26<00:26,  1.71it/s]"
     ]
    },
    {
     "name": "stdout",
     "output_type": "stream",
     "text": [
      "[Pretrain Epoch 154] total loss = 252.0258\n"
     ]
    },
    {
     "name": "stderr",
     "output_type": "stream",
     "text": [
      " 78%|█████████████████████████████████████████████████████████████████████████████████████████▋                         | 156/200 [01:26<00:27,  1.63it/s]"
     ]
    },
    {
     "name": "stdout",
     "output_type": "stream",
     "text": [
      "[Pretrain Epoch 155] total loss = 248.1799\n"
     ]
    },
    {
     "name": "stderr",
     "output_type": "stream",
     "text": [
      " 78%|██████████████████████████████████████████████████████████████████████████████████████████▎                        | 157/200 [01:27<00:26,  1.61it/s]"
     ]
    },
    {
     "name": "stdout",
     "output_type": "stream",
     "text": [
      "[Pretrain Epoch 156] total loss = 249.4957\n"
     ]
    },
    {
     "name": "stderr",
     "output_type": "stream",
     "text": [
      " 79%|██████████████████████████████████████████████████████████████████████████████████████████▊                        | 158/200 [01:27<00:24,  1.69it/s]"
     ]
    },
    {
     "name": "stdout",
     "output_type": "stream",
     "text": [
      "[Pretrain Epoch 157] total loss = 247.9438\n"
     ]
    },
    {
     "name": "stderr",
     "output_type": "stream",
     "text": [
      " 80%|███████████████████████████████████████████████████████████████████████████████████████████▍                       | 159/200 [01:28<00:23,  1.76it/s]"
     ]
    },
    {
     "name": "stdout",
     "output_type": "stream",
     "text": [
      "[Pretrain Epoch 158] total loss = 241.3926\n"
     ]
    },
    {
     "name": "stderr",
     "output_type": "stream",
     "text": [
      " 80%|████████████████████████████████████████████████████████████████████████████████████████████                       | 160/200 [01:28<00:21,  1.85it/s]"
     ]
    },
    {
     "name": "stdout",
     "output_type": "stream",
     "text": [
      "[Pretrain Epoch 159] total loss = 241.9384\n"
     ]
    },
    {
     "name": "stderr",
     "output_type": "stream",
     "text": [
      " 80%|████████████████████████████████████████████████████████████████████████████████████████████▌                      | 161/200 [01:29<00:20,  1.87it/s]"
     ]
    },
    {
     "name": "stdout",
     "output_type": "stream",
     "text": [
      "[Pretrain Epoch 160] total loss = 243.3461\n"
     ]
    },
    {
     "name": "stderr",
     "output_type": "stream",
     "text": [
      " 81%|█████████████████████████████████████████████████████████████████████████████████████████████▏                     | 162/200 [01:30<00:20,  1.88it/s]"
     ]
    },
    {
     "name": "stdout",
     "output_type": "stream",
     "text": [
      "[Pretrain Epoch 161] total loss = 240.9835\n"
     ]
    },
    {
     "name": "stderr",
     "output_type": "stream",
     "text": [
      " 82%|█████████████████████████████████████████████████████████████████████████████████████████████▋                     | 163/200 [01:30<00:19,  1.90it/s]"
     ]
    },
    {
     "name": "stdout",
     "output_type": "stream",
     "text": [
      "[Pretrain Epoch 162] total loss = 240.5122\n"
     ]
    },
    {
     "name": "stderr",
     "output_type": "stream",
     "text": [
      " 82%|██████████████████████████████████████████████████████████████████████████████████████████████▎                    | 164/200 [01:31<00:18,  1.92it/s]"
     ]
    },
    {
     "name": "stdout",
     "output_type": "stream",
     "text": [
      "[Pretrain Epoch 163] total loss = 241.0135\n"
     ]
    },
    {
     "name": "stderr",
     "output_type": "stream",
     "text": [
      " 82%|██████████████████████████████████████████████████████████████████████████████████████████████▉                    | 165/200 [01:31<00:18,  1.92it/s]"
     ]
    },
    {
     "name": "stdout",
     "output_type": "stream",
     "text": [
      "[Pretrain Epoch 164] total loss = 235.2815\n"
     ]
    },
    {
     "name": "stderr",
     "output_type": "stream",
     "text": [
      " 83%|███████████████████████████████████████████████████████████████████████████████████████████████▍                   | 166/200 [01:32<00:17,  1.92it/s]"
     ]
    },
    {
     "name": "stdout",
     "output_type": "stream",
     "text": [
      "[Pretrain Epoch 165] total loss = 238.3249\n"
     ]
    },
    {
     "name": "stderr",
     "output_type": "stream",
     "text": [
      " 84%|████████████████████████████████████████████████████████████████████████████████████████████████                   | 167/200 [01:32<00:17,  1.91it/s]"
     ]
    },
    {
     "name": "stdout",
     "output_type": "stream",
     "text": [
      "[Pretrain Epoch 166] total loss = 236.4800\n"
     ]
    },
    {
     "name": "stderr",
     "output_type": "stream",
     "text": [
      " 84%|████████████████████████████████████████████████████████████████████████████████████████████████▌                  | 168/200 [01:33<00:17,  1.86it/s]"
     ]
    },
    {
     "name": "stdout",
     "output_type": "stream",
     "text": [
      "[Pretrain Epoch 167] total loss = 239.0332\n"
     ]
    },
    {
     "name": "stderr",
     "output_type": "stream",
     "text": [
      " 84%|█████████████████████████████████████████████████████████████████████████████████████████████████▏                 | 169/200 [01:33<00:17,  1.77it/s]"
     ]
    },
    {
     "name": "stdout",
     "output_type": "stream",
     "text": [
      "[Pretrain Epoch 168] total loss = 237.2158\n"
     ]
    },
    {
     "name": "stderr",
     "output_type": "stream",
     "text": [
      " 85%|█████████████████████████████████████████████████████████████████████████████████████████████████▊                 | 170/200 [01:34<00:16,  1.81it/s]"
     ]
    },
    {
     "name": "stdout",
     "output_type": "stream",
     "text": [
      "[Pretrain Epoch 169] total loss = 241.9386\n"
     ]
    },
    {
     "name": "stderr",
     "output_type": "stream",
     "text": [
      " 86%|██████████████████████████████████████████████████████████████████████████████████████████████████▎                | 171/200 [01:34<00:15,  1.84it/s]"
     ]
    },
    {
     "name": "stdout",
     "output_type": "stream",
     "text": [
      "[Pretrain Epoch 170] total loss = 235.4273\n"
     ]
    },
    {
     "name": "stderr",
     "output_type": "stream",
     "text": [
      " 86%|██████████████████████████████████████████████████████████████████████████████████████████████████▉                | 172/200 [01:35<00:14,  1.87it/s]"
     ]
    },
    {
     "name": "stdout",
     "output_type": "stream",
     "text": [
      "[Pretrain Epoch 171] total loss = 233.3017\n"
     ]
    },
    {
     "name": "stderr",
     "output_type": "stream",
     "text": [
      " 86%|███████████████████████████████████████████████████████████████████████████████████████████████████▍               | 173/200 [01:35<00:14,  1.88it/s]"
     ]
    },
    {
     "name": "stdout",
     "output_type": "stream",
     "text": [
      "[Pretrain Epoch 172] total loss = 235.1971\n"
     ]
    },
    {
     "name": "stderr",
     "output_type": "stream",
     "text": [
      " 87%|████████████████████████████████████████████████████████████████████████████████████████████████████               | 174/200 [01:36<00:13,  1.89it/s]"
     ]
    },
    {
     "name": "stdout",
     "output_type": "stream",
     "text": [
      "[Pretrain Epoch 173] total loss = 235.1351\n"
     ]
    },
    {
     "name": "stderr",
     "output_type": "stream",
     "text": [
      " 88%|████████████████████████████████████████████████████████████████████████████████████████████████████▋              | 175/200 [01:36<00:13,  1.89it/s]"
     ]
    },
    {
     "name": "stdout",
     "output_type": "stream",
     "text": [
      "[Pretrain Epoch 174] total loss = 234.8221\n"
     ]
    },
    {
     "name": "stderr",
     "output_type": "stream",
     "text": [
      " 88%|█████████████████████████████████████████████████████████████████████████████████████████████████████▏             | 176/200 [01:37<00:13,  1.82it/s]"
     ]
    },
    {
     "name": "stdout",
     "output_type": "stream",
     "text": [
      "[Pretrain Epoch 175] total loss = 229.1455\n"
     ]
    },
    {
     "name": "stderr",
     "output_type": "stream",
     "text": [
      " 88%|█████████████████████████████████████████████████████████████████████████████████████████████████████▊             | 177/200 [01:38<00:12,  1.79it/s]"
     ]
    },
    {
     "name": "stdout",
     "output_type": "stream",
     "text": [
      "[Pretrain Epoch 176] total loss = 232.6210\n"
     ]
    },
    {
     "name": "stderr",
     "output_type": "stream",
     "text": [
      " 89%|██████████████████████████████████████████████████████████████████████████████████████████████████████▎            | 178/200 [01:38<00:12,  1.78it/s]"
     ]
    },
    {
     "name": "stdout",
     "output_type": "stream",
     "text": [
      "[Pretrain Epoch 177] total loss = 231.9198\n"
     ]
    },
    {
     "name": "stderr",
     "output_type": "stream",
     "text": [
      " 90%|██████████████████████████████████████████████████████████████████████████████████████████████████████▉            | 179/200 [01:39<00:12,  1.70it/s]"
     ]
    },
    {
     "name": "stdout",
     "output_type": "stream",
     "text": [
      "[Pretrain Epoch 178] total loss = 228.3541\n"
     ]
    },
    {
     "name": "stderr",
     "output_type": "stream",
     "text": [
      " 90%|███████████████████████████████████████████████████████████████████████████████████████████████████████▌           | 180/200 [01:39<00:11,  1.76it/s]"
     ]
    },
    {
     "name": "stdout",
     "output_type": "stream",
     "text": [
      "[Pretrain Epoch 179] total loss = 230.5348\n"
     ]
    },
    {
     "name": "stderr",
     "output_type": "stream",
     "text": [
      " 90%|████████████████████████████████████████████████████████████████████████████████████████████████████████           | 181/200 [01:40<00:10,  1.76it/s]"
     ]
    },
    {
     "name": "stdout",
     "output_type": "stream",
     "text": [
      "[Pretrain Epoch 180] total loss = 229.5449\n"
     ]
    },
    {
     "name": "stderr",
     "output_type": "stream",
     "text": [
      " 91%|████████████████████████████████████████████████████████████████████████████████████████████████████████▋          | 182/200 [01:41<00:10,  1.68it/s]"
     ]
    },
    {
     "name": "stdout",
     "output_type": "stream",
     "text": [
      "[Pretrain Epoch 181] total loss = 229.3338\n"
     ]
    },
    {
     "name": "stderr",
     "output_type": "stream",
     "text": [
      " 92%|█████████████████████████████████████████████████████████████████████████████████████████████████████████▏         | 183/200 [01:41<00:09,  1.75it/s]"
     ]
    },
    {
     "name": "stdout",
     "output_type": "stream",
     "text": [
      "[Pretrain Epoch 182] total loss = 231.2447\n"
     ]
    },
    {
     "name": "stderr",
     "output_type": "stream",
     "text": [
      " 92%|█████████████████████████████████████████████████████████████████████████████████████████████████████████▊         | 184/200 [01:42<00:08,  1.80it/s]"
     ]
    },
    {
     "name": "stdout",
     "output_type": "stream",
     "text": [
      "[Pretrain Epoch 183] total loss = 230.2536\n"
     ]
    },
    {
     "name": "stderr",
     "output_type": "stream",
     "text": [
      " 92%|██████████████████████████████████████████████████████████████████████████████████████████████████████████▍        | 185/200 [01:42<00:08,  1.85it/s]"
     ]
    },
    {
     "name": "stdout",
     "output_type": "stream",
     "text": [
      "[Pretrain Epoch 184] total loss = 227.7484\n"
     ]
    },
    {
     "name": "stderr",
     "output_type": "stream",
     "text": [
      " 93%|██████████████████████████████████████████████████████████████████████████████████████████████████████████▉        | 186/200 [01:43<00:07,  1.86it/s]"
     ]
    },
    {
     "name": "stdout",
     "output_type": "stream",
     "text": [
      "[Pretrain Epoch 185] total loss = 229.0457\n"
     ]
    },
    {
     "name": "stderr",
     "output_type": "stream",
     "text": [
      " 94%|███████████████████████████████████████████████████████████████████████████████████████████████████████████▌       | 187/200 [01:43<00:06,  1.90it/s]"
     ]
    },
    {
     "name": "stdout",
     "output_type": "stream",
     "text": [
      "[Pretrain Epoch 186] total loss = 221.8016\n"
     ]
    },
    {
     "name": "stderr",
     "output_type": "stream",
     "text": [
      " 94%|████████████████████████████████████████████████████████████████████████████████████████████████████████████       | 188/200 [01:44<00:06,  1.93it/s]"
     ]
    },
    {
     "name": "stdout",
     "output_type": "stream",
     "text": [
      "[Pretrain Epoch 187] total loss = 226.2059\n"
     ]
    },
    {
     "name": "stderr",
     "output_type": "stream",
     "text": [
      " 94%|████████████████████████████████████████████████████████████████████████████████████████████████████████████▋      | 189/200 [01:44<00:05,  1.93it/s]"
     ]
    },
    {
     "name": "stdout",
     "output_type": "stream",
     "text": [
      "[Pretrain Epoch 188] total loss = 223.2361\n"
     ]
    },
    {
     "name": "stderr",
     "output_type": "stream",
     "text": [
      " 95%|█████████████████████████████████████████████████████████████████████████████████████████████████████████████▎     | 190/200 [01:45<00:05,  1.94it/s]"
     ]
    },
    {
     "name": "stdout",
     "output_type": "stream",
     "text": [
      "[Pretrain Epoch 189] total loss = 223.4875\n"
     ]
    },
    {
     "name": "stderr",
     "output_type": "stream",
     "text": [
      " 96%|█████████████████████████████████████████████████████████████████████████████████████████████████████████████▊     | 191/200 [01:45<00:04,  1.94it/s]"
     ]
    },
    {
     "name": "stdout",
     "output_type": "stream",
     "text": [
      "[Pretrain Epoch 190] total loss = 221.7019\n"
     ]
    },
    {
     "name": "stderr",
     "output_type": "stream",
     "text": [
      " 96%|██████████████████████████████████████████████████████████████████████████████████████████████████████████████▍    | 192/200 [01:46<00:04,  1.95it/s]"
     ]
    },
    {
     "name": "stdout",
     "output_type": "stream",
     "text": [
      "[Pretrain Epoch 191] total loss = 223.1352\n"
     ]
    },
    {
     "name": "stderr",
     "output_type": "stream",
     "text": [
      " 96%|██████████████████████████████████████████████████████████████████████████████████████████████████████████████▉    | 193/200 [01:46<00:03,  1.95it/s]"
     ]
    },
    {
     "name": "stdout",
     "output_type": "stream",
     "text": [
      "[Pretrain Epoch 192] total loss = 223.9046\n"
     ]
    },
    {
     "name": "stderr",
     "output_type": "stream",
     "text": [
      " 97%|███████████████████████████████████████████████████████████████████████████████████████████████████████████████▌   | 194/200 [01:47<00:03,  1.95it/s]"
     ]
    },
    {
     "name": "stdout",
     "output_type": "stream",
     "text": [
      "[Pretrain Epoch 193] total loss = 227.5476\n"
     ]
    },
    {
     "name": "stderr",
     "output_type": "stream",
     "text": [
      " 98%|████████████████████████████████████████████████████████████████████████████████████████████████████████████████▏  | 195/200 [01:47<00:02,  1.93it/s]"
     ]
    },
    {
     "name": "stdout",
     "output_type": "stream",
     "text": [
      "[Pretrain Epoch 194] total loss = 219.1159\n"
     ]
    },
    {
     "name": "stderr",
     "output_type": "stream",
     "text": [
      " 98%|████████████████████████████████████████████████████████████████████████████████████████████████████████████████▋  | 196/200 [01:48<00:02,  1.92it/s]"
     ]
    },
    {
     "name": "stdout",
     "output_type": "stream",
     "text": [
      "[Pretrain Epoch 195] total loss = 220.0610\n"
     ]
    },
    {
     "name": "stderr",
     "output_type": "stream",
     "text": [
      " 98%|█████████████████████████████████████████████████████████████████████████████████████████████████████████████████▎ | 197/200 [01:48<00:01,  1.86it/s]"
     ]
    },
    {
     "name": "stdout",
     "output_type": "stream",
     "text": [
      "[Pretrain Epoch 196] total loss = 217.3235\n"
     ]
    },
    {
     "name": "stderr",
     "output_type": "stream",
     "text": [
      " 99%|█████████████████████████████████████████████████████████████████████████████████████████████████████████████████▊ | 198/200 [01:49<00:01,  1.71it/s]"
     ]
    },
    {
     "name": "stdout",
     "output_type": "stream",
     "text": [
      "[Pretrain Epoch 197] total loss = 221.9210\n"
     ]
    },
    {
     "name": "stderr",
     "output_type": "stream",
     "text": [
      "100%|██████████████████████████████████████████████████████████████████████████████████████████████████████████████████▍| 199/200 [01:50<00:00,  1.66it/s]"
     ]
    },
    {
     "name": "stdout",
     "output_type": "stream",
     "text": [
      "[Pretrain Epoch 198] total loss = 220.4606\n"
     ]
    },
    {
     "name": "stderr",
     "output_type": "stream",
     "text": [
      "100%|███████████████████████████████████████████████████████████████████████████████████████████████████████████████████| 200/200 [01:50<00:00,  1.81it/s]"
     ]
    },
    {
     "name": "stdout",
     "output_type": "stream",
     "text": [
      "[Pretrain Epoch 199] total loss = 220.6869\n"
     ]
    },
    {
     "name": "stderr",
     "output_type": "stream",
     "text": [
      "\n"
     ]
    }
   ],
   "source": [
    "# calculate expression latent distrobution prior for each spot\n",
    "micro.cal_spot_prior(adata.X)"
   ]
  },
  {
   "cell_type": "code",
   "execution_count": 5,
   "id": "5f00e75c-0f74-4d27-85ac-061bde77218c",
   "metadata": {},
   "outputs": [
    {
     "name": "stdout",
     "output_type": "stream",
     "text": [
      "Creating and loading model ... \n",
      "Extracting features... \n",
      "Saving features ...\n"
     ]
    }
   ],
   "source": [
    "# calculate image features via foundation model UNI (https://github.com/mahmoodlab/UNI)\n",
    "micro.cal_token_feats(   img_path = './data/HE.jpg',\n",
    "                         UNI_path = '/data/yyyu/test/UNI/code_raw/assets/ckpts/vit_large_patch16_224.dinov2.uni_mass100k/pytorch_model.bin',\n",
    "                         scale = 1\n",
    "                         )"
   ]
  },
  {
   "cell_type": "code",
   "execution_count": 6,
   "id": "808d0019-2607-4c1a-b642-0ef3f8287596",
   "metadata": {},
   "outputs": [
    {
     "name": "stderr",
     "output_type": "stream",
     "text": [
      "  0%|▌                                                                                                                    | 1/200 [00:02<08:24,  2.54s/it]"
     ]
    },
    {
     "name": "stdout",
     "output_type": "stream",
     "text": [
      "Epoch 1: total=197.3072, nb=181.3809, size=6.7763, smooth=18.1760, cos_gene=4.0201, cos_cell=4.7468, kl_token=4228.1664\n"
     ]
    },
    {
     "name": "stderr",
     "output_type": "stream",
     "text": [
      "  1%|█▏                                                                                                                   | 2/200 [00:04<08:02,  2.44s/it]"
     ]
    },
    {
     "name": "stdout",
     "output_type": "stream",
     "text": [
      "Epoch 2: total=11.9106, nb=0.7517, size=2.3127, smooth=20.0994, cos_gene=3.9206, cos_cell=4.5175, kl_token=4192.1388\n"
     ]
    },
    {
     "name": "stderr",
     "output_type": "stream",
     "text": [
      "  2%|█▊                                                                                                                   | 3/200 [00:07<08:06,  2.47s/it]"
     ]
    },
    {
     "name": "stdout",
     "output_type": "stream",
     "text": [
      "Epoch 3: total=715323.5897, nb=715310.0678, size=5.2560, smooth=22.4018, cos_gene=3.3969, cos_cell=4.4277, kl_token=3910.2238\n"
     ]
    },
    {
     "name": "stderr",
     "output_type": "stream",
     "text": [
      "  2%|██▎                                                                                                                  | 4/200 [00:09<08:06,  2.48s/it]"
     ]
    },
    {
     "name": "stdout",
     "output_type": "stream",
     "text": [
      "Epoch 4: total=11.8645, nb=1.0898, size=2.4715, smooth=24.8130, cos_gene=3.3907, cos_cell=4.4493, kl_token=4045.9960\n"
     ]
    },
    {
     "name": "stderr",
     "output_type": "stream",
     "text": [
      "  2%|██▉                                                                                                                  | 5/200 [00:12<08:00,  2.46s/it]"
     ]
    },
    {
     "name": "stdout",
     "output_type": "stream",
     "text": [
      "Epoch 5: total=9.7750, nb=0.4500, size=1.5658, smooth=24.2271, cos_gene=3.1930, cos_cell=4.1037, kl_token=4140.7115\n"
     ]
    },
    {
     "name": "stderr",
     "output_type": "stream",
     "text": [
      "  3%|███▌                                                                                                                 | 6/200 [00:14<07:56,  2.46s/it]"
     ]
    },
    {
     "name": "stdout",
     "output_type": "stream",
     "text": [
      "Epoch 6: total=12.9672, nb=4.2735, size=1.3414, smooth=17.8621, cos_gene=2.8955, cos_cell=4.0526, kl_token=3958.6835\n"
     ]
    },
    {
     "name": "stderr",
     "output_type": "stream",
     "text": [
      "  4%|████                                                                                                                 | 7/200 [00:17<07:50,  2.44s/it]"
     ]
    },
    {
     "name": "stdout",
     "output_type": "stream",
     "text": [
      "Epoch 7: total=8.1917, nb=0.4782, size=0.8604, smooth=15.2684, cos_gene=2.7523, cos_cell=3.7169, kl_token=4014.7115\n"
     ]
    },
    {
     "name": "stderr",
     "output_type": "stream",
     "text": [
      "  4%|████▋                                                                                                                | 8/200 [00:19<07:43,  2.42s/it]"
     ]
    },
    {
     "name": "stdout",
     "output_type": "stream",
     "text": [
      "Epoch 8: total=7.1799, nb=0.4022, size=0.6007, smooth=11.7658, cos_gene=2.5529, cos_cell=3.2726, kl_token=3974.4169\n"
     ]
    },
    {
     "name": "stderr",
     "output_type": "stream",
     "text": [
      "  4%|█████▎                                                                                                               | 9/200 [00:22<07:49,  2.46s/it]"
     ]
    },
    {
     "name": "stdout",
     "output_type": "stream",
     "text": [
      "Epoch 9: total=7.0742, nb=0.3370, size=0.8983, smooth=9.0599, cos_gene=2.5353, cos_cell=2.9737, kl_token=4039.2961\n"
     ]
    },
    {
     "name": "stderr",
     "output_type": "stream",
     "text": [
      "  5%|█████▊                                                                                                              | 10/200 [00:24<07:47,  2.46s/it]"
     ]
    },
    {
     "name": "stdout",
     "output_type": "stream",
     "text": [
      "Epoch 10: total=7.1997, nb=0.3165, size=1.2059, smooth=8.0098, cos_gene=2.4904, cos_cell=2.8654, kl_token=3905.6827\n"
     ]
    },
    {
     "name": "stderr",
     "output_type": "stream",
     "text": [
      "  6%|██████▍                                                                                                             | 11/200 [00:27<07:46,  2.47s/it]"
     ]
    },
    {
     "name": "stdout",
     "output_type": "stream",
     "text": [
      "Epoch 11: total=6.3394, nb=0.2960, size=0.8655, smooth=6.9105, cos_gene=2.3655, cos_cell=2.4920, kl_token=3923.4323\n"
     ]
    },
    {
     "name": "stderr",
     "output_type": "stream",
     "text": [
      "  6%|██████▉                                                                                                             | 12/200 [00:29<07:47,  2.49s/it]"
     ]
    },
    {
     "name": "stdout",
     "output_type": "stream",
     "text": [
      "Epoch 12: total=6.5209, nb=0.7286, size=0.5462, smooth=6.1374, cos_gene=2.3740, cos_cell=2.5582, kl_token=3916.0948\n"
     ]
    },
    {
     "name": "stderr",
     "output_type": "stream",
     "text": [
      "  6%|███████▌                                                                                                            | 13/200 [00:32<07:49,  2.51s/it]"
     ]
    },
    {
     "name": "stdout",
     "output_type": "stream",
     "text": [
      "Epoch 13: total=6.7661, nb=0.2918, size=1.4034, smooth=7.7349, cos_gene=2.4616, cos_cell=2.2718, kl_token=3984.4000\n"
     ]
    },
    {
     "name": "stderr",
     "output_type": "stream",
     "text": [
      "  7%|████████                                                                                                            | 14/200 [00:34<07:48,  2.52s/it]"
     ]
    },
    {
     "name": "stdout",
     "output_type": "stream",
     "text": [
      "Epoch 14: total=5.6699, nb=0.2809, size=0.6603, smooth=8.8708, cos_gene=2.3559, cos_cell=2.0205, kl_token=3970.7128\n"
     ]
    },
    {
     "name": "stderr",
     "output_type": "stream",
     "text": [
      "  8%|████████▋                                                                                                           | 15/200 [00:37<07:48,  2.53s/it]"
     ]
    },
    {
     "name": "stdout",
     "output_type": "stream",
     "text": [
      "Epoch 15: total=7.8872, nb=0.3513, size=2.7703, smooth=7.9122, cos_gene=2.5160, cos_cell=1.8999, kl_token=4003.7497\n"
     ]
    },
    {
     "name": "stderr",
     "output_type": "stream",
     "text": [
      "  8%|█████████▎                                                                                                          | 16/200 [00:39<07:42,  2.51s/it]"
     ]
    },
    {
     "name": "stdout",
     "output_type": "stream",
     "text": [
      "Epoch 16: total=5.8372, nb=0.3896, size=0.9883, smooth=7.9186, cos_gene=2.2833, cos_cell=1.8220, kl_token=3975.7183\n"
     ]
    },
    {
     "name": "stderr",
     "output_type": "stream",
     "text": [
      "  8%|█████████▊                                                                                                          | 17/200 [00:42<07:43,  2.53s/it]"
     ]
    },
    {
     "name": "stdout",
     "output_type": "stream",
     "text": [
      "Epoch 17: total=6.2386, nb=0.3489, size=1.5621, smooth=7.5358, cos_gene=2.4313, cos_cell=1.5449, kl_token=3899.1488\n"
     ]
    },
    {
     "name": "stderr",
     "output_type": "stream",
     "text": [
      "  9%|██████████▍                                                                                                         | 18/200 [00:44<07:43,  2.55s/it]"
     ]
    },
    {
     "name": "stdout",
     "output_type": "stream",
     "text": [
      "Epoch 18: total=6.0456, nb=0.3518, size=1.6185, smooth=6.9359, cos_gene=2.3970, cos_cell=1.3242, kl_token=3961.8100\n"
     ]
    },
    {
     "name": "stderr",
     "output_type": "stream",
     "text": [
      " 10%|███████████                                                                                                         | 19/200 [00:47<07:44,  2.57s/it]"
     ]
    },
    {
     "name": "stdout",
     "output_type": "stream",
     "text": [
      "Epoch 19: total=4.5834, nb=0.3494, size=0.5482, smooth=6.1710, cos_gene=2.1862, cos_cell=1.1523, kl_token=3864.7283\n"
     ]
    },
    {
     "name": "stderr",
     "output_type": "stream",
     "text": [
      " 10%|███████████▌                                                                                                        | 20/200 [00:50<07:43,  2.57s/it]"
     ]
    },
    {
     "name": "stdout",
     "output_type": "stream",
     "text": [
      "Epoch 20: total=4.7545, nb=0.2946, size=0.9135, smooth=5.2223, cos_gene=2.2279, cos_cell=0.9775, kl_token=3806.6503\n"
     ]
    },
    {
     "name": "stderr",
     "output_type": "stream",
     "text": [
      " 10%|████████████▏                                                                                                       | 21/200 [00:52<07:39,  2.57s/it]"
     ]
    },
    {
     "name": "stdout",
     "output_type": "stream",
     "text": [
      "Epoch 21: total=4.2244, nb=0.2723, size=0.5809, smooth=4.5438, cos_gene=2.1389, cos_cell=0.8924, kl_token=3815.4196\n"
     ]
    },
    {
     "name": "stderr",
     "output_type": "stream",
     "text": [
      " 11%|████████████▊                                                                                                       | 22/200 [00:55<07:42,  2.60s/it]"
     ]
    },
    {
     "name": "stdout",
     "output_type": "stream",
     "text": [
      "Epoch 22: total=3.7646, nb=0.2516, size=0.3526, smooth=3.9573, cos_gene=2.0951, cos_cell=0.7247, kl_token=3907.9105\n"
     ]
    },
    {
     "name": "stderr",
     "output_type": "stream",
     "text": [
      " 12%|█████████████▎                                                                                                      | 23/200 [00:57<07:37,  2.58s/it]"
     ]
    },
    {
     "name": "stdout",
     "output_type": "stream",
     "text": [
      "Epoch 23: total=3.8541, nb=0.2441, size=0.4600, smooth=3.6984, cos_gene=2.1145, cos_cell=0.6921, kl_token=3901.7934\n"
     ]
    },
    {
     "name": "stderr",
     "output_type": "stream",
     "text": [
      " 12%|█████████████▉                                                                                                      | 24/200 [01:00<07:37,  2.60s/it]"
     ]
    },
    {
     "name": "stdout",
     "output_type": "stream",
     "text": [
      "Epoch 24: total=3.7144, nb=0.2431, size=0.3896, smooth=3.4286, cos_gene=2.0757, cos_cell=0.6641, kl_token=3797.5469\n"
     ]
    },
    {
     "name": "stderr",
     "output_type": "stream",
     "text": [
      " 12%|██████████████▌                                                                                                     | 25/200 [01:02<07:28,  2.56s/it]"
     ]
    },
    {
     "name": "stdout",
     "output_type": "stream",
     "text": [
      "Epoch 25: total=3.5481, nb=0.2386, size=0.3128, smooth=3.3660, cos_gene=2.0663, cos_cell=0.5830, kl_token=3856.5535\n"
     ]
    },
    {
     "name": "stderr",
     "output_type": "stream",
     "text": [
      " 13%|███████████████                                                                                                     | 26/200 [01:05<07:31,  2.59s/it]"
     ]
    },
    {
     "name": "stdout",
     "output_type": "stream",
     "text": [
      "Epoch 26: total=3.4189, nb=0.2394, size=0.2363, smooth=3.0221, cos_gene=2.0364, cos_cell=0.5591, kl_token=3815.7791\n"
     ]
    },
    {
     "name": "stderr",
     "output_type": "stream",
     "text": [
      " 14%|███████████████▋                                                                                                    | 27/200 [01:08<07:28,  2.59s/it]"
     ]
    },
    {
     "name": "stdout",
     "output_type": "stream",
     "text": [
      "Epoch 27: total=3.4843, nb=0.2380, size=0.3165, smooth=2.8360, cos_gene=2.0232, cos_cell=0.5510, kl_token=3885.8115\n"
     ]
    },
    {
     "name": "stderr",
     "output_type": "stream",
     "text": [
      " 14%|████████████████▏                                                                                                   | 28/200 [01:10<07:14,  2.52s/it]"
     ]
    },
    {
     "name": "stdout",
     "output_type": "stream",
     "text": [
      "Epoch 28: total=3.7959, nb=0.2436, size=0.5854, smooth=2.5320, cos_gene=2.0363, cos_cell=0.5710, kl_token=3951.7852\n"
     ]
    },
    {
     "name": "stderr",
     "output_type": "stream",
     "text": [
      " 14%|████████████████▊                                                                                                   | 29/200 [01:13<07:13,  2.53s/it]"
     ]
    },
    {
     "name": "stdout",
     "output_type": "stream",
     "text": [
      "Epoch 29: total=3.5729, nb=0.2381, size=0.4003, smooth=2.2124, cos_gene=2.0227, cos_cell=0.5559, kl_token=3837.2792\n"
     ]
    },
    {
     "name": "stderr",
     "output_type": "stream",
     "text": [
      " 15%|█████████████████▍                                                                                                  | 30/200 [01:15<07:07,  2.51s/it]"
     ]
    },
    {
     "name": "stdout",
     "output_type": "stream",
     "text": [
      "Epoch 30: total=3.2911, nb=0.2346, size=0.1792, smooth=2.0303, cos_gene=2.0011, cos_cell=0.5163, kl_token=3841.8706\n"
     ]
    },
    {
     "name": "stderr",
     "output_type": "stream",
     "text": [
      " 16%|█████████████████▉                                                                                                  | 31/200 [01:18<06:59,  2.48s/it]"
     ]
    },
    {
     "name": "stdout",
     "output_type": "stream",
     "text": [
      "Epoch 31: total=3.5830, nb=0.2397, size=0.3896, smooth=1.9775, cos_gene=2.0119, cos_cell=0.5787, kl_token=3796.3597\n"
     ]
    },
    {
     "name": "stderr",
     "output_type": "stream",
     "text": [
      " 16%|██████████████████▌                                                                                                 | 32/200 [01:20<06:49,  2.44s/it]"
     ]
    },
    {
     "name": "stdout",
     "output_type": "stream",
     "text": [
      "Epoch 32: total=3.4689, nb=0.2357, size=0.3363, smooth=1.7556, cos_gene=2.0080, cos_cell=0.5201, kl_token=3859.9851\n"
     ]
    },
    {
     "name": "stderr",
     "output_type": "stream",
     "text": [
      " 16%|███████████████████▏                                                                                                | 33/200 [01:22<06:52,  2.47s/it]"
     ]
    },
    {
     "name": "stdout",
     "output_type": "stream",
     "text": [
      "Epoch 33: total=3.3020, nb=0.2355, size=0.2051, smooth=1.7326, cos_gene=1.9846, cos_cell=0.5051, kl_token=3850.3053\n"
     ]
    },
    {
     "name": "stderr",
     "output_type": "stream",
     "text": [
      " 17%|███████████████████▋                                                                                                | 34/200 [01:25<06:51,  2.48s/it]"
     ]
    },
    {
     "name": "stdout",
     "output_type": "stream",
     "text": [
      "Epoch 34: total=3.3286, nb=0.2323, size=0.2315, smooth=1.6987, cos_gene=1.9975, cos_cell=0.4956, kl_token=3778.8297\n"
     ]
    },
    {
     "name": "stderr",
     "output_type": "stream",
     "text": [
      " 18%|████████████████████▎                                                                                               | 35/200 [01:27<06:52,  2.50s/it]"
     ]
    },
    {
     "name": "stdout",
     "output_type": "stream",
     "text": [
      "Epoch 35: total=3.3151, nb=0.2331, size=0.2208, smooth=1.6991, cos_gene=1.9811, cos_cell=0.5086, kl_token=3661.8873\n"
     ]
    },
    {
     "name": "stderr",
     "output_type": "stream",
     "text": [
      " 18%|████████████████████▉                                                                                               | 36/200 [01:30<06:42,  2.45s/it]"
     ]
    },
    {
     "name": "stdout",
     "output_type": "stream",
     "text": [
      "Epoch 36: total=4.4000, nb=0.2459, size=1.1205, smooth=1.6014, cos_gene=2.1317, cos_cell=0.5213, kl_token=3792.1425\n"
     ]
    },
    {
     "name": "stderr",
     "output_type": "stream",
     "text": [
      " 18%|█████████████████████▍                                                                                              | 37/200 [01:32<06:45,  2.49s/it]"
     ]
    },
    {
     "name": "stdout",
     "output_type": "stream",
     "text": [
      "Epoch 37: total=3.6142, nb=0.2514, size=0.4455, smooth=1.7168, cos_gene=1.9908, cos_cell=0.5409, kl_token=3777.6870\n"
     ]
    },
    {
     "name": "stderr",
     "output_type": "stream",
     "text": [
      " 19%|██████████████████████                                                                                              | 38/200 [01:35<06:37,  2.46s/it]"
     ]
    },
    {
     "name": "stdout",
     "output_type": "stream",
     "text": [
      "Epoch 38: total=3.3630, nb=0.2477, size=0.2542, smooth=1.7025, cos_gene=1.9745, cos_cell=0.4947, kl_token=3752.2028\n"
     ]
    },
    {
     "name": "stderr",
     "output_type": "stream",
     "text": [
      " 20%|██████████████████████▌                                                                                             | 39/200 [01:37<06:33,  2.44s/it]"
     ]
    },
    {
     "name": "stdout",
     "output_type": "stream",
     "text": [
      "Epoch 39: total=3.8367, nb=0.2469, size=0.6656, smooth=1.6049, cos_gene=2.0303, cos_cell=0.4958, kl_token=3825.8653\n"
     ]
    },
    {
     "name": "stderr",
     "output_type": "stream",
     "text": [
      " 20%|███████████████████████▏                                                                                            | 40/200 [01:40<06:38,  2.49s/it]"
     ]
    },
    {
     "name": "stdout",
     "output_type": "stream",
     "text": [
      "Epoch 40: total=3.1748, nb=0.2374, size=0.1054, smooth=1.6638, cos_gene=1.9576, cos_cell=0.4783, kl_token=3734.8279\n"
     ]
    },
    {
     "name": "stderr",
     "output_type": "stream",
     "text": [
      " 20%|███████████████████████▊                                                                                            | 41/200 [01:42<06:36,  2.49s/it]"
     ]
    },
    {
     "name": "stdout",
     "output_type": "stream",
     "text": [
      "Epoch 41: total=3.3172, nb=0.2319, size=0.2342, smooth=1.6306, cos_gene=1.9676, cos_cell=0.4777, kl_token=3806.4572\n"
     ]
    },
    {
     "name": "stderr",
     "output_type": "stream",
     "text": [
      " 21%|████████████████████████▎                                                                                           | 42/200 [01:45<06:33,  2.49s/it]"
     ]
    },
    {
     "name": "stdout",
     "output_type": "stream",
     "text": [
      "Epoch 42: total=3.2065, nb=0.2297, size=0.1397, smooth=1.5329, cos_gene=1.9480, cos_cell=0.4775, kl_token=3851.8891\n"
     ]
    },
    {
     "name": "stderr",
     "output_type": "stream",
     "text": [
      " 22%|████████████████████████▉                                                                                           | 43/200 [01:47<06:29,  2.48s/it]"
     ]
    },
    {
     "name": "stdout",
     "output_type": "stream",
     "text": [
      "Epoch 43: total=3.2493, nb=0.2293, size=0.1661, smooth=1.4415, cos_gene=1.9574, cos_cell=0.4799, kl_token=3848.9565\n"
     ]
    },
    {
     "name": "stderr",
     "output_type": "stream",
     "text": [
      " 22%|█████████████████████████▌                                                                                          | 44/200 [01:50<06:25,  2.47s/it]"
     ]
    },
    {
     "name": "stdout",
     "output_type": "stream",
     "text": [
      "Epoch 44: total=3.5540, nb=0.2311, size=0.4337, smooth=1.4283, cos_gene=1.9962, cos_cell=0.4783, kl_token=3746.2091\n"
     ]
    },
    {
     "name": "stderr",
     "output_type": "stream",
     "text": [
      " 22%|██████████████████████████                                                                                          | 45/200 [01:52<06:28,  2.51s/it]"
     ]
    },
    {
     "name": "stdout",
     "output_type": "stream",
     "text": [
      "Epoch 45: total=3.4143, nb=0.2351, size=0.2959, smooth=1.5752, cos_gene=1.9748, cos_cell=0.4840, kl_token=3765.1854\n"
     ]
    },
    {
     "name": "stderr",
     "output_type": "stream",
     "text": [
      " 23%|██████████████████████████▋                                                                                         | 46/200 [01:55<06:26,  2.51s/it]"
     ]
    },
    {
     "name": "stdout",
     "output_type": "stream",
     "text": [
      "Epoch 46: total=3.5469, nb=0.2341, size=0.4252, smooth=1.5228, cos_gene=1.9906, cos_cell=0.4730, kl_token=3737.1758\n"
     ]
    },
    {
     "name": "stderr",
     "output_type": "stream",
     "text": [
      " 24%|███████████████████████████▎                                                                                        | 47/200 [01:57<06:30,  2.55s/it]"
     ]
    },
    {
     "name": "stdout",
     "output_type": "stream",
     "text": [
      "Epoch 47: total=3.2225, nb=0.2375, size=0.1300, smooth=1.6441, cos_gene=1.9530, cos_cell=0.4726, kl_token=3739.8123\n"
     ]
    },
    {
     "name": "stderr",
     "output_type": "stream",
     "text": [
      " 24%|███████████████████████████▊                                                                                        | 48/200 [02:00<06:28,  2.55s/it]"
     ]
    },
    {
     "name": "stdout",
     "output_type": "stream",
     "text": [
      "Epoch 48: total=3.1420, nb=0.2269, size=0.0877, smooth=1.6509, cos_gene=1.9377, cos_cell=0.4620, kl_token=3620.3596\n"
     ]
    },
    {
     "name": "stderr",
     "output_type": "stream",
     "text": [
      " 24%|████████████████████████████▍                                                                                       | 49/200 [02:03<06:26,  2.56s/it]"
     ]
    },
    {
     "name": "stdout",
     "output_type": "stream",
     "text": [
      "Epoch 49: total=3.1978, nb=0.2254, size=0.1279, smooth=1.5588, cos_gene=1.9332, cos_cell=0.4673, kl_token=3784.8342\n"
     ]
    },
    {
     "name": "stderr",
     "output_type": "stream",
     "text": [
      " 25%|█████████████████████████████                                                                                       | 50/200 [02:05<06:23,  2.56s/it]"
     ]
    },
    {
     "name": "stdout",
     "output_type": "stream",
     "text": [
      "Epoch 50: total=3.3226, nb=0.2268, size=0.2401, smooth=1.4863, cos_gene=1.9506, cos_cell=0.4612, kl_token=3707.5980\n"
     ]
    },
    {
     "name": "stderr",
     "output_type": "stream",
     "text": [
      " 26%|█████████████████████████████▌                                                                                      | 51/200 [02:08<06:22,  2.56s/it]"
     ]
    },
    {
     "name": "stdout",
     "output_type": "stream",
     "text": [
      "Epoch 51: total=3.2373, nb=0.2262, size=0.1698, smooth=1.4735, cos_gene=1.9365, cos_cell=0.4599, kl_token=3681.6337\n"
     ]
    },
    {
     "name": "stderr",
     "output_type": "stream",
     "text": [
      " 26%|██████████████████████████████▏                                                                                     | 52/200 [02:10<06:19,  2.57s/it]"
     ]
    },
    {
     "name": "stdout",
     "output_type": "stream",
     "text": [
      "Epoch 52: total=3.1958, nb=0.2256, size=0.1259, smooth=1.4939, cos_gene=1.9311, cos_cell=0.4569, kl_token=3789.4022\n"
     ]
    },
    {
     "name": "stderr",
     "output_type": "stream",
     "text": [
      " 26%|██████████████████████████████▋                                                                                     | 53/200 [02:13<06:22,  2.60s/it]"
     ]
    },
    {
     "name": "stdout",
     "output_type": "stream",
     "text": [
      "Epoch 53: total=3.1144, nb=0.2227, size=0.0705, smooth=1.4625, cos_gene=1.9129, cos_cell=0.4544, kl_token=3681.2873\n"
     ]
    },
    {
     "name": "stderr",
     "output_type": "stream",
     "text": [
      " 27%|███████████████████████████████▎                                                                                    | 54/200 [02:15<06:17,  2.58s/it]"
     ]
    },
    {
     "name": "stdout",
     "output_type": "stream",
     "text": [
      "Epoch 54: total=3.1985, nb=0.2220, size=0.1513, smooth=1.5058, cos_gene=1.9259, cos_cell=0.4500, kl_token=3580.4120\n"
     ]
    },
    {
     "name": "stderr",
     "output_type": "stream",
     "text": [
      " 28%|███████████████████████████████▉                                                                                    | 55/200 [02:18<06:14,  2.58s/it]"
     ]
    },
    {
     "name": "stdout",
     "output_type": "stream",
     "text": [
      "Epoch 55: total=3.1076, nb=0.2216, size=0.0648, smooth=1.4497, cos_gene=1.9095, cos_cell=0.4497, kl_token=3666.3472\n"
     ]
    },
    {
     "name": "stderr",
     "output_type": "stream",
     "text": [
      " 28%|████████████████████████████████▍                                                                                   | 56/200 [02:21<06:12,  2.59s/it]"
     ]
    },
    {
     "name": "stdout",
     "output_type": "stream",
     "text": [
      "Epoch 56: total=3.0971, nb=0.2211, size=0.0591, smooth=1.4017, cos_gene=1.8986, cos_cell=0.4509, kl_token=3701.0899\n"
     ]
    },
    {
     "name": "stderr",
     "output_type": "stream",
     "text": [
      " 28%|█████████████████████████████████                                                                                   | 57/200 [02:23<06:11,  2.60s/it]"
     ]
    },
    {
     "name": "stdout",
     "output_type": "stream",
     "text": [
      "Epoch 57: total=3.1844, nb=0.2212, size=0.1408, smooth=1.4419, cos_gene=1.9058, cos_cell=0.4503, kl_token=3624.4143\n"
     ]
    },
    {
     "name": "stderr",
     "output_type": "stream",
     "text": [
      " 29%|█████████████████████████████████▋                                                                                  | 58/200 [02:26<06:08,  2.59s/it]"
     ]
    },
    {
     "name": "stdout",
     "output_type": "stream",
     "text": [
      "Epoch 58: total=3.2563, nb=0.2230, size=0.1951, smooth=1.4042, cos_gene=1.9053, cos_cell=0.4580, kl_token=3664.7179\n"
     ]
    },
    {
     "name": "stderr",
     "output_type": "stream",
     "text": [
      " 30%|██████████████████████████████████▏                                                                                 | 59/200 [02:28<06:00,  2.55s/it]"
     ]
    },
    {
     "name": "stdout",
     "output_type": "stream",
     "text": [
      "Epoch 59: total=3.2494, nb=0.2222, size=0.2034, smooth=1.4097, cos_gene=1.9061, cos_cell=0.4458, kl_token=3585.5232\n"
     ]
    },
    {
     "name": "stderr",
     "output_type": "stream",
     "text": [
      " 30%|██████████████████████████████████▊                                                                                 | 60/200 [02:31<05:59,  2.57s/it]"
     ]
    },
    {
     "name": "stdout",
     "output_type": "stream",
     "text": [
      "Epoch 60: total=3.1490, nb=0.2224, size=0.0976, smooth=1.5086, cos_gene=1.8910, cos_cell=0.4454, kl_token=3738.0957\n"
     ]
    },
    {
     "name": "stderr",
     "output_type": "stream",
     "text": [
      " 30%|███████████████████████████████████▍                                                                                | 61/200 [02:34<05:58,  2.58s/it]"
     ]
    },
    {
     "name": "stdout",
     "output_type": "stream",
     "text": [
      "Epoch 61: total=3.0990, nb=0.2223, size=0.0642, smooth=1.4793, cos_gene=1.8861, cos_cell=0.4430, kl_token=3597.2117\n"
     ]
    },
    {
     "name": "stderr",
     "output_type": "stream",
     "text": [
      " 31%|███████████████████████████████████▉                                                                                | 62/200 [02:36<05:59,  2.60s/it]"
     ]
    },
    {
     "name": "stdout",
     "output_type": "stream",
     "text": [
      "Epoch 62: total=3.1467, nb=0.2212, size=0.1038, smooth=1.6261, cos_gene=1.8963, cos_cell=0.4417, kl_token=3514.6942\n"
     ]
    },
    {
     "name": "stderr",
     "output_type": "stream",
     "text": [
      " 32%|████████████████████████████████████▌                                                                               | 63/200 [02:39<06:01,  2.64s/it]"
     ]
    },
    {
     "name": "stdout",
     "output_type": "stream",
     "text": [
      "Epoch 63: total=3.1727, nb=0.2213, size=0.1217, smooth=1.5882, cos_gene=1.8974, cos_cell=0.4373, kl_token=3602.1765\n"
     ]
    },
    {
     "name": "stderr",
     "output_type": "stream",
     "text": [
      " 32%|█████████████████████████████████████                                                                               | 64/200 [02:41<05:54,  2.61s/it]"
     ]
    },
    {
     "name": "stdout",
     "output_type": "stream",
     "text": [
      "Epoch 64: total=3.1100, nb=0.2202, size=0.0732, smooth=1.6746, cos_gene=1.8901, cos_cell=0.4325, kl_token=3549.2763\n"
     ]
    },
    {
     "name": "stderr",
     "output_type": "stream",
     "text": [
      " 32%|█████████████████████████████████████▋                                                                              | 65/200 [02:44<05:51,  2.61s/it]"
     ]
    },
    {
     "name": "stdout",
     "output_type": "stream",
     "text": [
      "Epoch 65: total=3.0829, nb=0.2186, size=0.0529, smooth=1.6200, cos_gene=1.8764, cos_cell=0.4364, kl_token=3528.7064\n"
     ]
    },
    {
     "name": "stderr",
     "output_type": "stream",
     "text": [
      " 33%|██████████████████████████████████████▎                                                                             | 66/200 [02:47<05:48,  2.60s/it]"
     ]
    },
    {
     "name": "stdout",
     "output_type": "stream",
     "text": [
      "Epoch 66: total=3.1285, nb=0.2189, size=0.0876, smooth=1.6636, cos_gene=1.8797, cos_cell=0.4409, kl_token=3507.3997\n"
     ]
    },
    {
     "name": "stderr",
     "output_type": "stream",
     "text": [
      " 34%|██████████████████████████████████████▊                                                                             | 67/200 [02:49<05:45,  2.60s/it]"
     ]
    },
    {
     "name": "stdout",
     "output_type": "stream",
     "text": [
      "Epoch 67: total=3.1099, nb=0.2186, size=0.0678, smooth=1.7461, cos_gene=1.8807, cos_cell=0.4377, kl_token=3487.3003\n"
     ]
    },
    {
     "name": "stderr",
     "output_type": "stream",
     "text": [
      " 34%|███████████████████████████████████████▍                                                                            | 68/200 [02:52<05:48,  2.64s/it]"
     ]
    },
    {
     "name": "stdout",
     "output_type": "stream",
     "text": [
      "Epoch 68: total=3.1043, nb=0.2182, size=0.0633, smooth=1.7209, cos_gene=1.8715, cos_cell=0.4343, kl_token=3593.4869\n"
     ]
    },
    {
     "name": "stderr",
     "output_type": "stream",
     "text": [
      " 34%|████████████████████████████████████████                                                                            | 69/200 [02:55<05:43,  2.62s/it]"
     ]
    },
    {
     "name": "stdout",
     "output_type": "stream",
     "text": [
      "Epoch 69: total=3.1196, nb=0.2188, size=0.0810, smooth=1.7304, cos_gene=1.8595, cos_cell=0.4353, kl_token=3588.2369\n"
     ]
    },
    {
     "name": "stderr",
     "output_type": "stream",
     "text": [
      " 35%|████████████████████████████████████████▌                                                                           | 70/200 [02:57<05:42,  2.63s/it]"
     ]
    },
    {
     "name": "stdout",
     "output_type": "stream",
     "text": [
      "Epoch 70: total=3.1597, nb=0.2187, size=0.1232, smooth=1.6808, cos_gene=1.8607, cos_cell=0.4357, kl_token=3546.3240\n"
     ]
    },
    {
     "name": "stderr",
     "output_type": "stream",
     "text": [
      " 36%|█████████████████████████████████████████▏                                                                          | 71/200 [03:00<05:41,  2.65s/it]"
     ]
    },
    {
     "name": "stdout",
     "output_type": "stream",
     "text": [
      "Epoch 71: total=3.1941, nb=0.2211, size=0.1413, smooth=1.7492, cos_gene=1.8644, cos_cell=0.4322, kl_token=3642.3169\n"
     ]
    },
    {
     "name": "stderr",
     "output_type": "stream",
     "text": [
      " 36%|█████████████████████████████████████████▊                                                                          | 72/200 [03:02<05:36,  2.63s/it]"
     ]
    },
    {
     "name": "stdout",
     "output_type": "stream",
     "text": [
      "Epoch 72: total=3.1707, nb=0.2203, size=0.1371, smooth=1.7501, cos_gene=1.8448, cos_cell=0.4336, kl_token=3565.8452\n"
     ]
    },
    {
     "name": "stderr",
     "output_type": "stream",
     "text": [
      " 36%|██████████████████████████████████████████▎                                                                         | 73/200 [03:05<05:26,  2.57s/it]"
     ]
    },
    {
     "name": "stdout",
     "output_type": "stream",
     "text": [
      "Epoch 73: total=3.1237, nb=0.2193, size=0.1025, smooth=1.8607, cos_gene=1.8446, cos_cell=0.4280, kl_token=3452.8150\n"
     ]
    },
    {
     "name": "stderr",
     "output_type": "stream",
     "text": [
      " 37%|██████████████████████████████████████████▉                                                                         | 74/200 [03:07<05:22,  2.56s/it]"
     ]
    },
    {
     "name": "stdout",
     "output_type": "stream",
     "text": [
      "Epoch 74: total=3.1183, nb=0.2183, size=0.0914, smooth=1.9317, cos_gene=1.8358, cos_cell=0.4251, kl_token=3585.0702\n"
     ]
    },
    {
     "name": "stderr",
     "output_type": "stream",
     "text": [
      " 38%|███████████████████████████████████████████▌                                                                        | 75/200 [03:10<05:20,  2.57s/it]"
     ]
    },
    {
     "name": "stdout",
     "output_type": "stream",
     "text": [
      "Epoch 75: total=3.0676, nb=0.2182, size=0.0779, smooth=1.9798, cos_gene=1.8079, cos_cell=0.4269, kl_token=3436.2206\n"
     ]
    },
    {
     "name": "stderr",
     "output_type": "stream",
     "text": [
      " 38%|████████████████████████████████████████████                                                                        | 76/200 [03:13<05:17,  2.56s/it]"
     ]
    },
    {
     "name": "stdout",
     "output_type": "stream",
     "text": [
      "Epoch 76: total=3.0617, nb=0.2167, size=0.0761, smooth=2.1187, cos_gene=1.8135, cos_cell=0.4183, kl_token=3386.6104\n"
     ]
    },
    {
     "name": "stderr",
     "output_type": "stream",
     "text": [
      " 38%|████████████████████████████████████████████▋                                                                       | 77/200 [03:15<05:16,  2.57s/it]"
     ]
    },
    {
     "name": "stdout",
     "output_type": "stream",
     "text": [
      "Epoch 77: total=3.0402, nb=0.2160, size=0.0545, smooth=2.2304, cos_gene=1.7995, cos_cell=0.4205, kl_token=3451.5414\n"
     ]
    },
    {
     "name": "stderr",
     "output_type": "stream",
     "text": [
      " 39%|█████████████████████████████████████████████▏                                                                      | 78/200 [03:18<05:13,  2.57s/it]"
     ]
    },
    {
     "name": "stdout",
     "output_type": "stream",
     "text": [
      "Epoch 78: total=3.0031, nb=0.2150, size=0.0308, smooth=2.2837, cos_gene=1.7987, cos_cell=0.4187, kl_token=3316.3061\n"
     ]
    },
    {
     "name": "stderr",
     "output_type": "stream",
     "text": [
      " 40%|█████████████████████████████████████████████▊                                                                      | 79/200 [03:20<05:11,  2.57s/it]"
     ]
    },
    {
     "name": "stdout",
     "output_type": "stream",
     "text": [
      "Epoch 79: total=2.9995, nb=0.2150, size=0.0266, smooth=2.3619, cos_gene=1.7942, cos_cell=0.4156, kl_token=3335.5764\n"
     ]
    },
    {
     "name": "stderr",
     "output_type": "stream",
     "text": [
      " 40%|██████████████████████████████████████████████▍                                                                     | 80/200 [03:23<05:05,  2.54s/it]"
     ]
    },
    {
     "name": "stdout",
     "output_type": "stream",
     "text": [
      "Epoch 80: total=3.0038, nb=0.2142, size=0.0226, smooth=2.3036, cos_gene=1.8033, cos_cell=0.4180, kl_token=3275.4433\n"
     ]
    },
    {
     "name": "stderr",
     "output_type": "stream",
     "text": [
      " 40%|██████████████████████████████████████████████▉                                                                     | 81/200 [03:25<05:08,  2.59s/it]"
     ]
    },
    {
     "name": "stdout",
     "output_type": "stream",
     "text": [
      "Epoch 81: total=3.0395, nb=0.2154, size=0.0404, smooth=2.4287, cos_gene=1.7980, cos_cell=0.4208, kl_token=3388.6570\n"
     ]
    },
    {
     "name": "stderr",
     "output_type": "stream",
     "text": [
      " 41%|███████████████████████████████████████████████▌                                                                    | 82/200 [03:28<05:04,  2.58s/it]"
     ]
    },
    {
     "name": "stdout",
     "output_type": "stream",
     "text": [
      "Epoch 82: total=3.0114, nb=0.2145, size=0.0403, smooth=2.5540, cos_gene=1.7840, cos_cell=0.4152, kl_token=3301.7711\n"
     ]
    },
    {
     "name": "stderr",
     "output_type": "stream",
     "text": [
      " 42%|████████████████████████████████████████████████▏                                                                   | 83/200 [03:31<05:02,  2.59s/it]"
     ]
    },
    {
     "name": "stdout",
     "output_type": "stream",
     "text": [
      "Epoch 83: total=2.9928, nb=0.2141, size=0.0204, smooth=2.6074, cos_gene=1.7794, cos_cell=0.4148, kl_token=3313.4761\n"
     ]
    },
    {
     "name": "stderr",
     "output_type": "stream",
     "text": [
      " 42%|████████████████████████████████████████████████▋                                                                   | 84/200 [03:33<04:57,  2.57s/it]"
     ]
    },
    {
     "name": "stdout",
     "output_type": "stream",
     "text": [
      "Epoch 84: total=3.0082, nb=0.2149, size=0.0379, smooth=2.6898, cos_gene=1.7700, cos_cell=0.4132, kl_token=3326.0298\n"
     ]
    },
    {
     "name": "stderr",
     "output_type": "stream",
     "text": [
      " 42%|█████████████████████████████████████████████████▎                                                                  | 85/200 [03:36<04:58,  2.60s/it]"
     ]
    },
    {
     "name": "stdout",
     "output_type": "stream",
     "text": [
      "Epoch 85: total=2.9664, nb=0.2132, size=0.0291, smooth=2.6817, cos_gene=1.7523, cos_cell=0.4135, kl_token=3168.1799\n"
     ]
    },
    {
     "name": "stderr",
     "output_type": "stream",
     "text": [
      " 43%|█████████████████████████████████████████████████▉                                                                  | 86/200 [03:38<04:55,  2.59s/it]"
     ]
    },
    {
     "name": "stdout",
     "output_type": "stream",
     "text": [
      "Epoch 86: total=2.9742, nb=0.2135, size=0.0286, smooth=2.7424, cos_gene=1.7485, cos_cell=0.4115, kl_token=3239.7287\n"
     ]
    },
    {
     "name": "stderr",
     "output_type": "stream",
     "text": [
      " 44%|██████████████████████████████████████████████████▍                                                                 | 87/200 [03:41<04:48,  2.56s/it]"
     ]
    },
    {
     "name": "stdout",
     "output_type": "stream",
     "text": [
      "Epoch 87: total=2.9893, nb=0.2130, size=0.0516, smooth=2.8462, cos_gene=1.7495, cos_cell=0.4138, kl_token=3128.8968\n"
     ]
    },
    {
     "name": "stderr",
     "output_type": "stream",
     "text": [
      " 44%|███████████████████████████████████████████████████                                                                 | 88/200 [03:44<04:49,  2.58s/it]"
     ]
    },
    {
     "name": "stdout",
     "output_type": "stream",
     "text": [
      "Epoch 88: total=3.0363, nb=0.2141, size=0.0622, smooth=2.8598, cos_gene=1.7635, cos_cell=0.4161, kl_token=3224.2882\n"
     ]
    },
    {
     "name": "stderr",
     "output_type": "stream",
     "text": [
      " 44%|███████████████████████████████████████████████████▌                                                                | 89/200 [03:46<04:47,  2.59s/it]"
     ]
    },
    {
     "name": "stdout",
     "output_type": "stream",
     "text": [
      "Epoch 89: total=3.0664, nb=0.2145, size=0.1128, smooth=2.8868, cos_gene=1.7521, cos_cell=0.4172, kl_token=3116.4614\n"
     ]
    },
    {
     "name": "stderr",
     "output_type": "stream",
     "text": [
      " 45%|████████████████████████████████████████████████████▏                                                               | 90/200 [03:49<04:45,  2.60s/it]"
     ]
    },
    {
     "name": "stdout",
     "output_type": "stream",
     "text": [
      "Epoch 90: total=3.0352, nb=0.2155, size=0.0566, smooth=2.6591, cos_gene=1.7510, cos_cell=0.4175, kl_token=3286.9964\n"
     ]
    },
    {
     "name": "stderr",
     "output_type": "stream",
     "text": [
      " 46%|████████████████████████████████████████████████████▊                                                               | 91/200 [03:51<04:43,  2.60s/it]"
     ]
    },
    {
     "name": "stdout",
     "output_type": "stream",
     "text": [
      "Epoch 91: total=3.0062, nb=0.2132, size=0.0645, smooth=2.9757, cos_gene=1.7367, cos_cell=0.4153, kl_token=3083.1187\n"
     ]
    },
    {
     "name": "stderr",
     "output_type": "stream",
     "text": [
      " 46%|█████████████████████████████████████████████████████▎                                                              | 92/200 [03:54<04:40,  2.60s/it]"
     ]
    },
    {
     "name": "stdout",
     "output_type": "stream",
     "text": [
      "Epoch 92: total=3.0133, nb=0.2138, size=0.0435, smooth=3.1095, cos_gene=1.7490, cos_cell=0.4132, kl_token=3186.4006\n"
     ]
    },
    {
     "name": "stderr",
     "output_type": "stream",
     "text": [
      " 46%|█████████████████████████████████████████████████████▉                                                              | 93/200 [03:56<04:34,  2.57s/it]"
     ]
    },
    {
     "name": "stdout",
     "output_type": "stream",
     "text": [
      "Epoch 93: total=3.0927, nb=0.2143, size=0.1353, smooth=3.3530, cos_gene=1.7498, cos_cell=0.4164, kl_token=3005.8658\n"
     ]
    },
    {
     "name": "stderr",
     "output_type": "stream",
     "text": [
      " 47%|██████████████████████████████████████████████████████▌                                                             | 94/200 [03:59<04:32,  2.57s/it]"
     ]
    },
    {
     "name": "stdout",
     "output_type": "stream",
     "text": [
      "Epoch 94: total=3.0985, nb=0.2159, size=0.1375, smooth=3.6483, cos_gene=1.7451, cos_cell=0.4167, kl_token=2989.5185\n"
     ]
    },
    {
     "name": "stderr",
     "output_type": "stream",
     "text": [
      " 48%|███████████████████████████████████████████████████████                                                             | 95/200 [04:02<04:33,  2.60s/it]"
     ]
    },
    {
     "name": "stdout",
     "output_type": "stream",
     "text": [
      "Epoch 95: total=3.0183, nb=0.2141, size=0.0709, smooth=3.7262, cos_gene=1.7356, cos_cell=0.4141, kl_token=2960.0142\n"
     ]
    },
    {
     "name": "stderr",
     "output_type": "stream",
     "text": [
      " 48%|███████████████████████████████████████████████████████▋                                                            | 96/200 [04:04<04:30,  2.60s/it]"
     ]
    },
    {
     "name": "stdout",
     "output_type": "stream",
     "text": [
      "Epoch 96: total=2.9984, nb=0.2140, size=0.0734, smooth=3.7853, cos_gene=1.7095, cos_cell=0.4116, kl_token=2975.4093\n"
     ]
    },
    {
     "name": "stderr",
     "output_type": "stream",
     "text": [
      " 48%|████████████████████████████████████████████████████████▎                                                           | 97/200 [04:07<04:27,  2.59s/it]"
     ]
    },
    {
     "name": "stdout",
     "output_type": "stream",
     "text": [
      "Epoch 97: total=2.9799, nb=0.2122, size=0.0336, smooth=3.8910, cos_gene=1.7226, cos_cell=0.4113, kl_token=3015.4068\n"
     ]
    },
    {
     "name": "stderr",
     "output_type": "stream",
     "text": [
      " 49%|████████████████████████████████████████████████████████▊                                                           | 98/200 [04:09<04:24,  2.59s/it]"
     ]
    },
    {
     "name": "stdout",
     "output_type": "stream",
     "text": [
      "Epoch 98: total=2.9116, nb=0.2116, size=0.0172, smooth=4.0140, cos_gene=1.6924, cos_cell=0.4060, kl_token=2853.5477\n"
     ]
    },
    {
     "name": "stderr",
     "output_type": "stream",
     "text": [
      " 50%|█████████████████████████████████████████████████████████▍                                                          | 99/200 [04:12<04:20,  2.58s/it]"
     ]
    },
    {
     "name": "stdout",
     "output_type": "stream",
     "text": [
      "Epoch 99: total=2.9175, nb=0.2112, size=0.0198, smooth=3.6576, cos_gene=1.6829, cos_cell=0.4085, kl_token=2940.8843\n"
     ]
    },
    {
     "name": "stderr",
     "output_type": "stream",
     "text": [
      " 50%|█████████████████████████████████████████████████████████▌                                                         | 100/200 [04:15<04:20,  2.60s/it]"
     ]
    },
    {
     "name": "stdout",
     "output_type": "stream",
     "text": [
      "Epoch 100: total=2.9287, nb=0.2115, size=0.0207, smooth=4.4581, cos_gene=1.6878, cos_cell=0.4075, kl_token=2877.6218\n"
     ]
    },
    {
     "name": "stderr",
     "output_type": "stream",
     "text": [
      " 50%|██████████████████████████████████████████████████████████                                                         | 101/200 [04:17<04:19,  2.62s/it]"
     ]
    },
    {
     "name": "stdout",
     "output_type": "stream",
     "text": [
      "Epoch 101: total=2.9001, nb=0.2106, size=0.0232, smooth=4.2172, cos_gene=1.6646, cos_cell=0.4059, kl_token=2840.2427\n"
     ]
    },
    {
     "name": "stderr",
     "output_type": "stream",
     "text": [
      " 51%|██████████████████████████████████████████████████████████▋                                                        | 102/200 [04:20<04:20,  2.66s/it]"
     ]
    },
    {
     "name": "stdout",
     "output_type": "stream",
     "text": [
      "Epoch 102: total=2.8894, nb=0.2103, size=0.0161, smooth=4.4569, cos_gene=1.6513, cos_cell=0.3985, kl_token=2934.8204\n"
     ]
    },
    {
     "name": "stderr",
     "output_type": "stream",
     "text": [
      " 52%|███████████████████████████████████████████████████████████▏                                                       | 103/200 [04:23<04:17,  2.65s/it]"
     ]
    },
    {
     "name": "stdout",
     "output_type": "stream",
     "text": [
      "Epoch 103: total=2.8511, nb=0.2094, size=0.0106, smooth=4.2796, cos_gene=1.6339, cos_cell=0.3966, kl_token=2829.1425\n"
     ]
    },
    {
     "name": "stderr",
     "output_type": "stream",
     "text": [
      " 52%|███████████████████████████████████████████████████████████▊                                                       | 104/200 [04:25<04:15,  2.66s/it]"
     ]
    },
    {
     "name": "stdout",
     "output_type": "stream",
     "text": [
      "Epoch 104: total=2.8808, nb=0.2099, size=0.0155, smooth=4.1257, cos_gene=1.6425, cos_cell=0.3979, kl_token=2904.9161\n"
     ]
    },
    {
     "name": "stderr",
     "output_type": "stream",
     "text": [
      " 52%|████████████████████████████████████████████████████████████▍                                                      | 105/200 [04:28<04:12,  2.66s/it]"
     ]
    },
    {
     "name": "stdout",
     "output_type": "stream",
     "text": [
      "Epoch 105: total=2.8639, nb=0.2100, size=0.0087, smooth=4.2316, cos_gene=1.6345, cos_cell=0.3958, kl_token=2869.6437\n"
     ]
    },
    {
     "name": "stderr",
     "output_type": "stream",
     "text": [
      " 53%|████████████████████████████████████████████████████████████▉                                                      | 106/200 [04:31<04:12,  2.69s/it]"
     ]
    },
    {
     "name": "stdout",
     "output_type": "stream",
     "text": [
      "Epoch 106: total=2.9143, nb=0.2100, size=0.0085, smooth=4.2305, cos_gene=1.6886, cos_cell=0.3954, kl_token=2836.7114\n"
     ]
    },
    {
     "name": "stderr",
     "output_type": "stream",
     "text": [
      " 54%|█████████████████████████████████████████████████████████████▌                                                     | 107/200 [04:33<04:08,  2.67s/it]"
     ]
    },
    {
     "name": "stdout",
     "output_type": "stream",
     "text": [
      "Epoch 107: total=2.8680, nb=0.2092, size=0.0095, smooth=4.0813, cos_gene=1.6446, cos_cell=0.3936, kl_token=2810.8156\n"
     ]
    },
    {
     "name": "stderr",
     "output_type": "stream",
     "text": [
      " 54%|██████████████████████████████████████████████████████████████                                                     | 108/200 [04:36<04:05,  2.67s/it]"
     ]
    },
    {
     "name": "stdout",
     "output_type": "stream",
     "text": [
      "Epoch 108: total=2.8704, nb=0.2098, size=0.0091, smooth=4.3763, cos_gene=1.6233, cos_cell=0.3929, kl_token=2936.2056\n"
     ]
    },
    {
     "name": "stderr",
     "output_type": "stream",
     "text": [
      " 55%|██████████████████████████████████████████████████████████████▋                                                    | 109/200 [04:39<03:59,  2.64s/it]"
     ]
    },
    {
     "name": "stdout",
     "output_type": "stream",
     "text": [
      "Epoch 109: total=2.8860, nb=0.2102, size=0.0187, smooth=4.4827, cos_gene=1.6298, cos_cell=0.3944, kl_token=2878.0336\n"
     ]
    },
    {
     "name": "stderr",
     "output_type": "stream",
     "text": [
      " 55%|███████████████████████████████████████████████████████████████▎                                                   | 110/200 [04:41<03:56,  2.63s/it]"
     ]
    },
    {
     "name": "stdout",
     "output_type": "stream",
     "text": [
      "Epoch 110: total=2.8562, nb=0.2091, size=0.0113, smooth=4.1387, cos_gene=1.6211, cos_cell=0.3939, kl_token=2803.1097\n"
     ]
    },
    {
     "name": "stderr",
     "output_type": "stream",
     "text": [
      " 56%|███████████████████████████████████████████████████████████████▊                                                   | 111/200 [04:44<03:57,  2.67s/it]"
     ]
    },
    {
     "name": "stdout",
     "output_type": "stream",
     "text": [
      "Epoch 111: total=2.9232, nb=0.2111, size=0.0228, smooth=4.2607, cos_gene=1.6498, cos_cell=0.3963, kl_token=2909.5461\n"
     ]
    },
    {
     "name": "stderr",
     "output_type": "stream",
     "text": [
      " 56%|████████████████████████████████████████████████████████████████▍                                                  | 112/200 [04:47<03:54,  2.67s/it]"
     ]
    },
    {
     "name": "stdout",
     "output_type": "stream",
     "text": [
      "Epoch 112: total=2.8701, nb=0.2092, size=0.0142, smooth=4.2833, cos_gene=1.6272, cos_cell=0.3973, kl_token=2755.8615\n"
     ]
    },
    {
     "name": "stderr",
     "output_type": "stream",
     "text": [
      " 56%|████████████████████████████████████████████████████████████████▉                                                  | 113/200 [04:49<03:51,  2.66s/it]"
     ]
    },
    {
     "name": "stdout",
     "output_type": "stream",
     "text": [
      "Epoch 113: total=2.8656, nb=0.2092, size=0.0100, smooth=4.4506, cos_gene=1.6148, cos_cell=0.3932, kl_token=2838.0362\n"
     ]
    },
    {
     "name": "stderr",
     "output_type": "stream",
     "text": [
      " 57%|█████████████████████████████████████████████████████████████████▌                                                 | 114/200 [04:52<03:49,  2.67s/it]"
     ]
    },
    {
     "name": "stdout",
     "output_type": "stream",
     "text": [
      "Epoch 114: total=2.8662, nb=0.2093, size=0.0125, smooth=4.2589, cos_gene=1.6071, cos_cell=0.3951, kl_token=2843.3296\n"
     ]
    },
    {
     "name": "stderr",
     "output_type": "stream",
     "text": [
      " 57%|██████████████████████████████████████████████████████████████████▏                                                | 115/200 [04:55<03:47,  2.67s/it]"
     ]
    },
    {
     "name": "stdout",
     "output_type": "stream",
     "text": [
      "Epoch 115: total=2.8565, nb=0.2095, size=0.0109, smooth=4.4047, cos_gene=1.6003, cos_cell=0.3941, kl_token=2795.7109\n"
     ]
    },
    {
     "name": "stderr",
     "output_type": "stream",
     "text": [
      " 58%|██████████████████████████████████████████████████████████████████▋                                                | 116/200 [04:57<03:41,  2.64s/it]"
     ]
    },
    {
     "name": "stdout",
     "output_type": "stream",
     "text": [
      "Epoch 116: total=2.8640, nb=0.2098, size=0.0126, smooth=4.4047, cos_gene=1.6098, cos_cell=0.3923, kl_token=2756.7930\n"
     ]
    },
    {
     "name": "stderr",
     "output_type": "stream",
     "text": [
      " 58%|███████████████████████████████████████████████████████████████████▎                                               | 117/200 [05:00<03:40,  2.66s/it]"
     ]
    },
    {
     "name": "stdout",
     "output_type": "stream",
     "text": [
      "Epoch 117: total=2.8575, nb=0.2096, size=0.0069, smooth=4.2440, cos_gene=1.6125, cos_cell=0.3912, kl_token=2730.6028\n"
     ]
    },
    {
     "name": "stderr",
     "output_type": "stream",
     "text": [
      " 59%|███████████████████████████████████████████████████████████████████▊                                               | 118/200 [05:03<03:37,  2.65s/it]"
     ]
    },
    {
     "name": "stdout",
     "output_type": "stream",
     "text": [
      "Epoch 118: total=2.8643, nb=0.2095, size=0.0150, smooth=4.5568, cos_gene=1.6045, cos_cell=0.3907, kl_token=2749.5740\n"
     ]
    },
    {
     "name": "stderr",
     "output_type": "stream",
     "text": [
      " 60%|████████████████████████████████████████████████████████████████████▍                                              | 119/200 [05:05<03:34,  2.65s/it]"
     ]
    },
    {
     "name": "stdout",
     "output_type": "stream",
     "text": [
      "Epoch 119: total=2.8757, nb=0.2098, size=0.0116, smooth=4.4109, cos_gene=1.6036, cos_cell=0.3921, kl_token=2814.6904\n"
     ]
    },
    {
     "name": "stderr",
     "output_type": "stream",
     "text": [
      " 60%|█████████████████████████████████████████████████████████████████████                                              | 120/200 [05:08<03:35,  2.69s/it]"
     ]
    },
    {
     "name": "stdout",
     "output_type": "stream",
     "text": [
      "Epoch 120: total=2.8606, nb=0.2088, size=0.0080, smooth=4.3437, cos_gene=1.6012, cos_cell=0.3942, kl_token=2734.6642\n"
     ]
    },
    {
     "name": "stderr",
     "output_type": "stream",
     "text": [
      " 60%|█████████████████████████████████████████████████████████████████████▌                                             | 121/200 [05:11<03:34,  2.72s/it]"
     ]
    },
    {
     "name": "stdout",
     "output_type": "stream",
     "text": [
      "Epoch 121: total=2.8709, nb=0.2090, size=0.0076, smooth=4.5269, cos_gene=1.6051, cos_cell=0.3930, kl_token=2757.5601\n"
     ]
    },
    {
     "name": "stderr",
     "output_type": "stream",
     "text": [
      " 61%|██████████████████████████████████████████████████████████████████████▏                                            | 122/200 [05:13<03:30,  2.69s/it]"
     ]
    },
    {
     "name": "stdout",
     "output_type": "stream",
     "text": [
      "Epoch 122: total=2.8663, nb=0.2093, size=0.0089, smooth=4.6498, cos_gene=1.5984, cos_cell=0.3924, kl_token=2718.4987\n"
     ]
    },
    {
     "name": "stderr",
     "output_type": "stream",
     "text": [
      " 62%|██████████████████████████████████████████████████████████████████████▋                                            | 123/200 [05:16<03:27,  2.69s/it]"
     ]
    },
    {
     "name": "stdout",
     "output_type": "stream",
     "text": [
      "Epoch 123: total=2.8713, nb=0.2089, size=0.0168, smooth=4.6239, cos_gene=1.5944, cos_cell=0.3921, kl_token=2729.8019\n"
     ]
    },
    {
     "name": "stderr",
     "output_type": "stream",
     "text": [
      " 62%|███████████████████████████████████████████████████████████████████████▎                                           | 124/200 [05:19<03:23,  2.67s/it]"
     ]
    },
    {
     "name": "stdout",
     "output_type": "stream",
     "text": [
      "Epoch 124: total=2.8840, nb=0.2095, size=0.0146, smooth=4.6681, cos_gene=1.5973, cos_cell=0.3918, kl_token=2755.8788\n"
     ]
    },
    {
     "name": "stderr",
     "output_type": "stream",
     "text": [
      " 62%|███████████████████████████████████████████████████████████████████████▉                                           | 125/200 [05:22<03:22,  2.70s/it]"
     ]
    },
    {
     "name": "stdout",
     "output_type": "stream",
     "text": [
      "Epoch 125: total=2.8727, nb=0.2087, size=0.0148, smooth=4.6855, cos_gene=1.6008, cos_cell=0.3908, kl_token=2671.0205\n"
     ]
    },
    {
     "name": "stderr",
     "output_type": "stream",
     "text": [
      " 63%|████████████████████████████████████████████████████████████████████████▍                                          | 126/200 [05:24<03:21,  2.72s/it]"
     ]
    },
    {
     "name": "stdout",
     "output_type": "stream",
     "text": [
      "Epoch 126: total=2.9000, nb=0.2089, size=0.0210, smooth=4.8526, cos_gene=1.6049, cos_cell=0.3933, kl_token=2722.3038\n"
     ]
    },
    {
     "name": "stderr",
     "output_type": "stream",
     "text": [
      " 64%|█████████████████████████████████████████████████████████████████████████                                          | 127/200 [05:27<03:18,  2.71s/it]"
     ]
    },
    {
     "name": "stdout",
     "output_type": "stream",
     "text": [
      "Epoch 127: total=2.8749, nb=0.2094, size=0.0112, smooth=4.7543, cos_gene=1.5963, cos_cell=0.3893, kl_token=2673.4691\n"
     ]
    },
    {
     "name": "stderr",
     "output_type": "stream",
     "text": [
      " 64%|█████████████████████████████████████████████████████████████████████████▌                                         | 128/200 [05:30<03:13,  2.68s/it]"
     ]
    },
    {
     "name": "stdout",
     "output_type": "stream",
     "text": [
      "Epoch 128: total=2.8850, nb=0.2090, size=0.0081, smooth=4.6122, cos_gene=1.6032, cos_cell=0.3902, kl_token=2707.0708\n"
     ]
    },
    {
     "name": "stderr",
     "output_type": "stream",
     "text": [
      " 64%|██████████████████████████████████████████████████████████████████████████▏                                        | 129/200 [05:32<03:09,  2.68s/it]"
     ]
    },
    {
     "name": "stdout",
     "output_type": "stream",
     "text": [
      "Epoch 129: total=2.8906, nb=0.2089, size=0.0162, smooth=4.6077, cos_gene=1.6039, cos_cell=0.3923, kl_token=2654.2866\n"
     ]
    },
    {
     "name": "stderr",
     "output_type": "stream",
     "text": [
      " 65%|██████████████████████████████████████████████████████████████████████████▊                                        | 130/200 [05:35<03:07,  2.68s/it]"
     ]
    },
    {
     "name": "stdout",
     "output_type": "stream",
     "text": [
      "Epoch 130: total=2.8687, nb=0.2083, size=0.0071, smooth=4.7847, cos_gene=1.5797, cos_cell=0.3900, kl_token=2717.0658\n"
     ]
    },
    {
     "name": "stderr",
     "output_type": "stream",
     "text": [
      " 66%|███████████████████████████████████████████████████████████████████████████▎                                       | 131/200 [05:38<03:06,  2.70s/it]"
     ]
    },
    {
     "name": "stdout",
     "output_type": "stream",
     "text": [
      "Epoch 131: total=2.8812, nb=0.2090, size=0.0082, smooth=4.7338, cos_gene=1.5875, cos_cell=0.3911, kl_token=2698.5213\n"
     ]
    },
    {
     "name": "stderr",
     "output_type": "stream",
     "text": [
      " 66%|███████████████████████████████████████████████████████████████████████████▉                                       | 132/200 [05:40<03:01,  2.67s/it]"
     ]
    },
    {
     "name": "stdout",
     "output_type": "stream",
     "text": [
      "Epoch 132: total=2.8800, nb=0.2089, size=0.0096, smooth=4.7669, cos_gene=1.5866, cos_cell=0.3909, kl_token=2676.5909\n"
     ]
    },
    {
     "name": "stderr",
     "output_type": "stream",
     "text": [
      " 66%|████████████████████████████████████████████████████████████████████████████▍                                      | 133/200 [05:43<02:58,  2.66s/it]"
     ]
    },
    {
     "name": "stdout",
     "output_type": "stream",
     "text": [
      "Epoch 133: total=2.8918, nb=0.2092, size=0.0084, smooth=5.0386, cos_gene=1.5845, cos_cell=0.3906, kl_token=2725.0995\n"
     ]
    },
    {
     "name": "stderr",
     "output_type": "stream",
     "text": [
      " 67%|█████████████████████████████████████████████████████████████████████████████                                      | 134/200 [05:46<02:57,  2.69s/it]"
     ]
    },
    {
     "name": "stdout",
     "output_type": "stream",
     "text": [
      "Epoch 134: total=2.8742, nb=0.2088, size=0.0057, smooth=4.8138, cos_gene=1.5783, cos_cell=0.3886, kl_token=2672.1925\n"
     ]
    },
    {
     "name": "stderr",
     "output_type": "stream",
     "text": [
      " 68%|█████████████████████████████████████████████████████████████████████████████▋                                     | 135/200 [05:48<02:52,  2.65s/it]"
     ]
    },
    {
     "name": "stdout",
     "output_type": "stream",
     "text": [
      "Epoch 135: total=2.8805, nb=0.2081, size=0.0087, smooth=5.1795, cos_gene=1.5830, cos_cell=0.3903, kl_token=2642.6188\n"
     ]
    },
    {
     "name": "stderr",
     "output_type": "stream",
     "text": [
      " 68%|██████████████████████████████████████████████████████████████████████████████▏                                    | 136/200 [05:51<02:48,  2.64s/it]"
     ]
    },
    {
     "name": "stdout",
     "output_type": "stream",
     "text": [
      "Epoch 136: total=2.8782, nb=0.2089, size=0.0089, smooth=5.0748, cos_gene=1.5772, cos_cell=0.3871, kl_token=2640.8277\n"
     ]
    },
    {
     "name": "stderr",
     "output_type": "stream",
     "text": [
      " 68%|██████████████████████████████████████████████████████████████████████████████▊                                    | 137/200 [05:53<02:45,  2.63s/it]"
     ]
    },
    {
     "name": "stdout",
     "output_type": "stream",
     "text": [
      "Epoch 137: total=2.9296, nb=0.2093, size=0.0164, smooth=4.9558, cos_gene=1.6047, cos_cell=0.3915, kl_token=2693.2243\n"
     ]
    },
    {
     "name": "stderr",
     "output_type": "stream",
     "text": [
      " 69%|███████████████████████████████████████████████████████████████████████████████▎                                   | 138/200 [05:56<02:43,  2.63s/it]"
     ]
    },
    {
     "name": "stdout",
     "output_type": "stream",
     "text": [
      "Epoch 138: total=2.9144, nb=0.2086, size=0.0112, smooth=5.0827, cos_gene=1.5988, cos_cell=0.3892, kl_token=2678.9279\n"
     ]
    },
    {
     "name": "stderr",
     "output_type": "stream",
     "text": [
      " 70%|███████████████████████████████████████████████████████████████████████████████▉                                   | 139/200 [05:59<02:41,  2.64s/it]"
     ]
    },
    {
     "name": "stdout",
     "output_type": "stream",
     "text": [
      "Epoch 139: total=2.9109, nb=0.2085, size=0.0257, smooth=5.1067, cos_gene=1.5930, cos_cell=0.3929, kl_token=2579.0368\n"
     ]
    },
    {
     "name": "stderr",
     "output_type": "stream",
     "text": [
      " 70%|████████████████████████████████████████████████████████████████████████████████▌                                  | 140/200 [06:02<02:40,  2.67s/it]"
     ]
    },
    {
     "name": "stdout",
     "output_type": "stream",
     "text": [
      "Epoch 140: total=2.8877, nb=0.2087, size=0.0101, smooth=5.0765, cos_gene=1.5785, cos_cell=0.3898, kl_token=2592.5647\n"
     ]
    },
    {
     "name": "stderr",
     "output_type": "stream",
     "text": [
      " 70%|█████████████████████████████████████████████████████████████████████████████████                                  | 141/200 [06:04<02:37,  2.67s/it]"
     ]
    },
    {
     "name": "stdout",
     "output_type": "stream",
     "text": [
      "Epoch 141: total=2.8853, nb=0.2084, size=0.0093, smooth=5.1015, cos_gene=1.5709, cos_cell=0.3892, kl_token=2608.2063\n"
     ]
    },
    {
     "name": "stderr",
     "output_type": "stream",
     "text": [
      " 71%|█████████████████████████████████████████████████████████████████████████████████▋                                 | 142/200 [06:07<02:36,  2.70s/it]"
     ]
    },
    {
     "name": "stdout",
     "output_type": "stream",
     "text": [
      "Epoch 142: total=2.8951, nb=0.2087, size=0.0091, smooth=5.0182, cos_gene=1.5797, cos_cell=0.3887, kl_token=2610.7265\n"
     ]
    },
    {
     "name": "stderr",
     "output_type": "stream",
     "text": [
      " 72%|██████████████████████████████████████████████████████████████████████████████████▏                                | 143/200 [06:10<02:32,  2.68s/it]"
     ]
    },
    {
     "name": "stdout",
     "output_type": "stream",
     "text": [
      "Epoch 143: total=2.9164, nb=0.2094, size=0.0196, smooth=5.0660, cos_gene=1.5708, cos_cell=0.3921, kl_token=2668.1821\n"
     ]
    },
    {
     "name": "stderr",
     "output_type": "stream",
     "text": [
      " 72%|██████████████████████████████████████████████████████████████████████████████████▊                                | 144/200 [06:12<02:28,  2.66s/it]"
     ]
    },
    {
     "name": "stdout",
     "output_type": "stream",
     "text": [
      "Epoch 144: total=2.8774, nb=0.2080, size=0.0121, smooth=5.2437, cos_gene=1.5614, cos_cell=0.3877, kl_token=2566.4620\n"
     ]
    },
    {
     "name": "stderr",
     "output_type": "stream",
     "text": [
      " 72%|███████████████████████████████████████████████████████████████████████████████████▍                               | 145/200 [06:15<02:26,  2.66s/it]"
     ]
    },
    {
     "name": "stdout",
     "output_type": "stream",
     "text": [
      "Epoch 145: total=2.9136, nb=0.2084, size=0.0174, smooth=5.3840, cos_gene=1.5811, cos_cell=0.3927, kl_token=2574.9458\n"
     ]
    },
    {
     "name": "stderr",
     "output_type": "stream",
     "text": [
      " 73%|███████████████████████████████████████████████████████████████████████████████████▉                               | 146/200 [06:18<02:23,  2.66s/it]"
     ]
    },
    {
     "name": "stdout",
     "output_type": "stream",
     "text": [
      "Epoch 146: total=2.8973, nb=0.2088, size=0.0065, smooth=5.3627, cos_gene=1.5658, cos_cell=0.3861, kl_token=2634.5130\n"
     ]
    },
    {
     "name": "stderr",
     "output_type": "stream",
     "text": [
      " 74%|████████████████████████████████████████████████████████████████████████████████████▌                              | 147/200 [06:20<02:22,  2.68s/it]"
     ]
    },
    {
     "name": "stdout",
     "output_type": "stream",
     "text": [
      "Epoch 147: total=2.9111, nb=0.2087, size=0.0140, smooth=5.4260, cos_gene=1.5599, cos_cell=0.3907, kl_token=2655.9593\n"
     ]
    },
    {
     "name": "stderr",
     "output_type": "stream",
     "text": [
      " 74%|█████████████████████████████████████████████████████████████████████████████████████                              | 148/200 [06:23<02:18,  2.66s/it]"
     ]
    },
    {
     "name": "stdout",
     "output_type": "stream",
     "text": [
      "Epoch 148: total=2.8858, nb=0.2080, size=0.0102, smooth=5.1788, cos_gene=1.5563, cos_cell=0.3914, kl_token=2558.7893\n"
     ]
    },
    {
     "name": "stderr",
     "output_type": "stream",
     "text": [
      " 74%|█████████████████████████████████████████████████████████████████████████████████████▋                             | 149/200 [06:25<02:13,  2.61s/it]"
     ]
    },
    {
     "name": "stdout",
     "output_type": "stream",
     "text": [
      "Epoch 149: total=2.9332, nb=0.2081, size=0.0076, smooth=5.5287, cos_gene=1.6073, cos_cell=0.3913, kl_token=2523.7994\n"
     ]
    },
    {
     "name": "stderr",
     "output_type": "stream",
     "text": [
      " 75%|██████████████████████████████████████████████████████████████████████████████████████▎                            | 150/200 [06:28<02:10,  2.62s/it]"
     ]
    },
    {
     "name": "stdout",
     "output_type": "stream",
     "text": [
      "Epoch 150: total=2.8937, nb=0.2078, size=0.0085, smooth=5.5181, cos_gene=1.5630, cos_cell=0.3916, kl_token=2521.9656\n"
     ]
    },
    {
     "name": "stderr",
     "output_type": "stream",
     "text": [
      " 76%|██████████████████████████████████████████████████████████████████████████████████████▊                            | 151/200 [06:31<02:09,  2.64s/it]"
     ]
    },
    {
     "name": "stdout",
     "output_type": "stream",
     "text": [
      "Epoch 151: total=2.9120, nb=0.2079, size=0.0123, smooth=5.5536, cos_gene=1.5569, cos_cell=0.3884, kl_token=2628.8755\n"
     ]
    },
    {
     "name": "stderr",
     "output_type": "stream",
     "text": [
      " 76%|███████████████████████████████████████████████████████████████████████████████████████▍                           | 152/200 [06:33<02:06,  2.64s/it]"
     ]
    },
    {
     "name": "stdout",
     "output_type": "stream",
     "text": [
      "Epoch 152: total=2.9160, nb=0.2083, size=0.0141, smooth=5.9788, cos_gene=1.5652, cos_cell=0.3923, kl_token=2537.7193\n"
     ]
    },
    {
     "name": "stderr",
     "output_type": "stream",
     "text": [
      " 76%|███████████████████████████████████████████████████████████████████████████████████████▉                           | 153/200 [06:36<02:05,  2.67s/it]"
     ]
    },
    {
     "name": "stdout",
     "output_type": "stream",
     "text": [
      "Epoch 153: total=2.8938, nb=0.2083, size=0.0059, smooth=5.4599, cos_gene=1.5528, cos_cell=0.3871, kl_token=2564.6739\n"
     ]
    },
    {
     "name": "stderr",
     "output_type": "stream",
     "text": [
      " 77%|████████████████████████████████████████████████████████████████████████████████████████▌                          | 154/200 [06:39<02:02,  2.66s/it]"
     ]
    },
    {
     "name": "stdout",
     "output_type": "stream",
     "text": [
      "Epoch 154: total=2.9013, nb=0.2081, size=0.0099, smooth=5.4536, cos_gene=1.5567, cos_cell=0.3877, kl_token=2543.5775\n"
     ]
    },
    {
     "name": "stderr",
     "output_type": "stream",
     "text": [
      " 78%|█████████████████████████████████████████████████████████████████████████████████████████▏                         | 155/200 [06:41<01:58,  2.64s/it]"
     ]
    },
    {
     "name": "stdout",
     "output_type": "stream",
     "text": [
      "Epoch 155: total=2.9155, nb=0.2085, size=0.0112, smooth=5.7631, cos_gene=1.5505, cos_cell=0.3906, kl_token=2588.3219\n"
     ]
    },
    {
     "name": "stderr",
     "output_type": "stream",
     "text": [
      " 78%|█████████████████████████████████████████████████████████████████████████████████████████▋                         | 156/200 [06:44<01:56,  2.64s/it]"
     ]
    },
    {
     "name": "stdout",
     "output_type": "stream",
     "text": [
      "Epoch 156: total=2.9074, nb=0.2084, size=0.0055, smooth=5.7474, cos_gene=1.5545, cos_cell=0.3871, kl_token=2545.2109\n"
     ]
    },
    {
     "name": "stderr",
     "output_type": "stream",
     "text": [
      " 78%|██████████████████████████████████████████████████████████████████████████████████████████▎                        | 157/200 [06:47<01:54,  2.67s/it]"
     ]
    },
    {
     "name": "stdout",
     "output_type": "stream",
     "text": [
      "Epoch 157: total=2.8898, nb=0.2078, size=0.0087, smooth=5.7126, cos_gene=1.5449, cos_cell=0.3878, kl_token=2486.4964\n"
     ]
    },
    {
     "name": "stderr",
     "output_type": "stream",
     "text": [
      " 79%|██████████████████████████████████████████████████████████████████████████████████████████▊                        | 158/200 [06:49<01:53,  2.70s/it]"
     ]
    },
    {
     "name": "stdout",
     "output_type": "stream",
     "text": [
      "Epoch 158: total=2.9280, nb=0.2085, size=0.0112, smooth=5.6787, cos_gene=1.5479, cos_cell=0.3891, kl_token=2624.1516\n"
     ]
    },
    {
     "name": "stderr",
     "output_type": "stream",
     "text": [
      " 80%|███████████████████████████████████████████████████████████████████████████████████████████▍                       | 159/200 [06:52<01:49,  2.68s/it]"
     ]
    },
    {
     "name": "stdout",
     "output_type": "stream",
     "text": [
      "Epoch 159: total=2.9056, nb=0.2077, size=0.0065, smooth=5.9806, cos_gene=1.5533, cos_cell=0.3872, kl_token=2503.9903\n"
     ]
    },
    {
     "name": "stderr",
     "output_type": "stream",
     "text": [
      " 80%|████████████████████████████████████████████████████████████████████████████████████████████                       | 160/200 [06:55<01:46,  2.67s/it]"
     ]
    },
    {
     "name": "stdout",
     "output_type": "stream",
     "text": [
      "Epoch 160: total=2.9016, nb=0.2080, size=0.0070, smooth=5.6861, cos_gene=1.5544, cos_cell=0.3885, kl_token=2461.0450\n"
     ]
    },
    {
     "name": "stderr",
     "output_type": "stream",
     "text": [
      " 80%|████████████████████████████████████████████████████████████████████████████████████████████▌                      | 161/200 [06:57<01:43,  2.66s/it]"
     ]
    },
    {
     "name": "stdout",
     "output_type": "stream",
     "text": [
      "Epoch 161: total=2.9043, nb=0.2074, size=0.0141, smooth=5.7928, cos_gene=1.5531, cos_cell=0.3903, kl_token=2422.3041\n"
     ]
    },
    {
     "name": "stderr",
     "output_type": "stream",
     "text": [
      " 81%|█████████████████████████████████████████████████████████████████████████████████████████████▏                     | 162/200 [07:00<01:40,  2.65s/it]"
     ]
    },
    {
     "name": "stdout",
     "output_type": "stream",
     "text": [
      "Epoch 162: total=2.9237, nb=0.2080, size=0.0110, smooth=5.9960, cos_gene=1.5576, cos_cell=0.3880, kl_token=2489.7148\n"
     ]
    },
    {
     "name": "stderr",
     "output_type": "stream",
     "text": [
      " 82%|█████████████████████████████████████████████████████████████████████████████████████████████▋                     | 163/200 [07:03<01:39,  2.69s/it]"
     ]
    },
    {
     "name": "stdout",
     "output_type": "stream",
     "text": [
      "Epoch 163: total=2.9119, nb=0.2077, size=0.0104, smooth=6.0346, cos_gene=1.5441, cos_cell=0.3880, kl_token=2484.7906\n"
     ]
    },
    {
     "name": "stderr",
     "output_type": "stream",
     "text": [
      " 82%|██████████████████████████████████████████████████████████████████████████████████████████████▎                    | 164/200 [07:05<01:36,  2.67s/it]"
     ]
    },
    {
     "name": "stdout",
     "output_type": "stream",
     "text": [
      "Epoch 164: total=2.9206, nb=0.2080, size=0.0093, smooth=6.5479, cos_gene=1.5519, cos_cell=0.3890, kl_token=2447.8377\n"
     ]
    },
    {
     "name": "stderr",
     "output_type": "stream",
     "text": [
      " 82%|██████████████████████████████████████████████████████████████████████████████████████████████▉                    | 165/200 [07:08<01:34,  2.70s/it]"
     ]
    },
    {
     "name": "stdout",
     "output_type": "stream",
     "text": [
      "Epoch 165: total=2.9221, nb=0.2073, size=0.0091, smooth=5.8609, cos_gene=1.5570, cos_cell=0.3877, kl_token=2466.5792\n"
     ]
    },
    {
     "name": "stderr",
     "output_type": "stream",
     "text": [
      " 83%|███████████████████████████████████████████████████████████████████████████████████████████████▍                   | 166/200 [07:11<01:31,  2.69s/it]"
     ]
    },
    {
     "name": "stdout",
     "output_type": "stream",
     "text": [
      "Epoch 166: total=2.9102, nb=0.2075, size=0.0077, smooth=5.9020, cos_gene=1.5500, cos_cell=0.3873, kl_token=2426.4338\n"
     ]
    },
    {
     "name": "stderr",
     "output_type": "stream",
     "text": [
      " 84%|████████████████████████████████████████████████████████████████████████████████████████████████                   | 167/200 [07:13<01:28,  2.68s/it]"
     ]
    },
    {
     "name": "stdout",
     "output_type": "stream",
     "text": [
      "Epoch 167: total=2.9230, nb=0.2078, size=0.0074, smooth=6.1042, cos_gene=1.5509, cos_cell=0.3873, kl_token=2467.4450\n"
     ]
    },
    {
     "name": "stderr",
     "output_type": "stream",
     "text": [
      " 84%|████████████████████████████████████████████████████████████████████████████████████████████████▌                  | 168/200 [07:16<01:26,  2.69s/it]"
     ]
    },
    {
     "name": "stdout",
     "output_type": "stream",
     "text": [
      "Epoch 168: total=2.9485, nb=0.2083, size=0.0115, smooth=6.5339, cos_gene=1.5646, cos_cell=0.3944, kl_token=2428.5162\n"
     ]
    },
    {
     "name": "stderr",
     "output_type": "stream",
     "text": [
      " 84%|█████████████████████████████████████████████████████████████████████████████████████████████████▏                 | 169/200 [07:19<01:22,  2.67s/it]"
     ]
    },
    {
     "name": "stdout",
     "output_type": "stream",
     "text": [
      "Epoch 169: total=2.9084, nb=0.2076, size=0.0097, smooth=6.1943, cos_gene=1.5333, cos_cell=0.3899, kl_token=2422.3175\n"
     ]
    },
    {
     "name": "stderr",
     "output_type": "stream",
     "text": [
      " 85%|█████████████████████████████████████████████████████████████████████████████████████████████████▊                 | 170/200 [07:22<01:20,  2.69s/it]"
     ]
    },
    {
     "name": "stdout",
     "output_type": "stream",
     "text": [
      "Epoch 170: total=2.9050, nb=0.2071, size=0.0064, smooth=5.8079, cos_gene=1.5402, cos_cell=0.3855, kl_token=2414.2759\n"
     ]
    },
    {
     "name": "stderr",
     "output_type": "stream",
     "text": [
      " 86%|██████████████████████████████████████████████████████████████████████████████████████████████████▎                | 171/200 [07:24<01:17,  2.67s/it]"
     ]
    },
    {
     "name": "stdout",
     "output_type": "stream",
     "text": [
      "Epoch 171: total=2.9199, nb=0.2075, size=0.0135, smooth=6.3447, cos_gene=1.5371, cos_cell=0.3876, kl_token=2411.5545\n"
     ]
    },
    {
     "name": "stderr",
     "output_type": "stream",
     "text": [
      " 86%|██████████████████████████████████████████████████████████████████████████████████████████████████▉                | 172/200 [07:27<01:14,  2.65s/it]"
     ]
    },
    {
     "name": "stdout",
     "output_type": "stream",
     "text": [
      "Epoch 172: total=2.9093, nb=0.2071, size=0.0063, smooth=6.2197, cos_gene=1.5404, cos_cell=0.3863, kl_token=2391.1234\n"
     ]
    },
    {
     "name": "stderr",
     "output_type": "stream",
     "text": [
      " 86%|███████████████████████████████████████████████████████████████████████████████████████████████████▍               | 173/200 [07:30<01:12,  2.67s/it]"
     ]
    },
    {
     "name": "stdout",
     "output_type": "stream",
     "text": [
      "Epoch 173: total=2.9306, nb=0.2079, size=0.0108, smooth=6.2458, cos_gene=1.5323, cos_cell=0.3908, kl_token=2450.3691\n"
     ]
    },
    {
     "name": "stderr",
     "output_type": "stream",
     "text": [
      " 87%|████████████████████████████████████████████████████████████████████████████████████████████████████               | 174/200 [07:32<01:09,  2.65s/it]"
     ]
    },
    {
     "name": "stdout",
     "output_type": "stream",
     "text": [
      "Epoch 174: total=2.9223, nb=0.2070, size=0.0060, smooth=6.3940, cos_gene=1.5378, cos_cell=0.3868, kl_token=2425.6073\n"
     ]
    },
    {
     "name": "stderr",
     "output_type": "stream",
     "text": [
      " 88%|████████████████████████████████████████████████████████████████████████████████████████████████████▋              | 175/200 [07:35<01:05,  2.61s/it]"
     ]
    },
    {
     "name": "stdout",
     "output_type": "stream",
     "text": [
      "Epoch 175: total=2.9197, nb=0.2072, size=0.0088, smooth=6.2318, cos_gene=1.5247, cos_cell=0.3844, kl_token=2461.1084\n"
     ]
    },
    {
     "name": "stderr",
     "output_type": "stream",
     "text": [
      " 88%|█████████████████████████████████████████████████████████████████████████████████████████████████████▏             | 176/200 [07:37<01:02,  2.60s/it]"
     ]
    },
    {
     "name": "stdout",
     "output_type": "stream",
     "text": [
      "Epoch 176: total=2.9215, nb=0.2072, size=0.0052, smooth=6.3464, cos_gene=1.5393, cos_cell=0.3852, kl_token=2397.6259\n"
     ]
    },
    {
     "name": "stderr",
     "output_type": "stream",
     "text": [
      " 88%|█████████████████████████████████████████████████████████████████████████████████████████████████████▊             | 177/200 [07:40<00:59,  2.57s/it]"
     ]
    },
    {
     "name": "stdout",
     "output_type": "stream",
     "text": [
      "Epoch 177: total=2.9266, nb=0.2079, size=0.0055, smooth=6.5709, cos_gene=1.5308, cos_cell=0.3873, kl_token=2408.5329\n"
     ]
    },
    {
     "name": "stderr",
     "output_type": "stream",
     "text": [
      " 89%|██████████████████████████████████████████████████████████████████████████████████████████████████████▎            | 178/200 [07:42<00:57,  2.62s/it]"
     ]
    },
    {
     "name": "stdout",
     "output_type": "stream",
     "text": [
      "Epoch 178: total=2.9390, nb=0.2074, size=0.0068, smooth=6.3831, cos_gene=1.5508, cos_cell=0.3878, kl_token=2373.5605\n"
     ]
    },
    {
     "name": "stderr",
     "output_type": "stream",
     "text": [
      " 90%|██████████████████████████████████████████████████████████████████████████████████████████████████████▉            | 179/200 [07:45<00:55,  2.63s/it]"
     ]
    },
    {
     "name": "stdout",
     "output_type": "stream",
     "text": [
      "Epoch 179: total=2.9307, nb=0.2070, size=0.0129, smooth=6.2430, cos_gene=1.5334, cos_cell=0.3897, kl_token=2380.1359\n"
     ]
    },
    {
     "name": "stderr",
     "output_type": "stream",
     "text": [
      " 90%|███████████████████████████████████████████████████████████████████████████████████████████████████████▌           | 180/200 [07:48<00:52,  2.64s/it]"
     ]
    },
    {
     "name": "stdout",
     "output_type": "stream",
     "text": [
      "Epoch 180: total=2.9383, nb=0.2078, size=0.0141, smooth=6.7426, cos_gene=1.5241, cos_cell=0.3899, kl_token=2396.2250\n"
     ]
    },
    {
     "name": "stderr",
     "output_type": "stream",
     "text": [
      " 90%|████████████████████████████████████████████████████████████████████████████████████████████████████████           | 181/200 [07:50<00:50,  2.64s/it]"
     ]
    },
    {
     "name": "stdout",
     "output_type": "stream",
     "text": [
      "Epoch 181: total=2.9272, nb=0.2071, size=0.0100, smooth=6.6477, cos_gene=1.5285, cos_cell=0.3868, kl_token=2353.5262\n"
     ]
    },
    {
     "name": "stderr",
     "output_type": "stream",
     "text": [
      " 91%|████████████████████████████████████████████████████████████████████████████████████████████████████████▋          | 182/200 [07:53<00:47,  2.64s/it]"
     ]
    },
    {
     "name": "stdout",
     "output_type": "stream",
     "text": [
      "Epoch 182: total=2.9352, nb=0.2078, size=0.0088, smooth=6.4686, cos_gene=1.5205, cos_cell=0.3863, kl_token=2429.4190\n"
     ]
    },
    {
     "name": "stderr",
     "output_type": "stream",
     "text": [
      " 92%|█████████████████████████████████████████████████████████████████████████████████████████████████████████▏         | 183/200 [07:56<00:44,  2.64s/it]"
     ]
    },
    {
     "name": "stdout",
     "output_type": "stream",
     "text": [
      "Epoch 183: total=2.9317, nb=0.2074, size=0.0114, smooth=6.5997, cos_gene=1.5185, cos_cell=0.3858, kl_token=2394.2943\n"
     ]
    },
    {
     "name": "stderr",
     "output_type": "stream",
     "text": [
      " 92%|█████████████████████████████████████████████████████████████████████████████████████████████████████████▊         | 184/200 [07:58<00:42,  2.64s/it]"
     ]
    },
    {
     "name": "stdout",
     "output_type": "stream",
     "text": [
      "Epoch 184: total=2.9384, nb=0.2072, size=0.0160, smooth=6.6820, cos_gene=1.5284, cos_cell=0.3854, kl_token=2341.9331\n"
     ]
    },
    {
     "name": "stderr",
     "output_type": "stream",
     "text": [
      " 92%|██████████████████████████████████████████████████████████████████████████████████████████████████████████▍        | 185/200 [08:01<00:38,  2.60s/it]"
     ]
    },
    {
     "name": "stdout",
     "output_type": "stream",
     "text": [
      "Epoch 185: total=2.9404, nb=0.2075, size=0.0128, smooth=6.4567, cos_gene=1.5232, cos_cell=0.3913, kl_token=2358.8068\n"
     ]
    },
    {
     "name": "stderr",
     "output_type": "stream",
     "text": [
      " 93%|██████████████████████████████████████████████████████████████████████████████████████████████████████████▉        | 186/200 [08:03<00:36,  2.61s/it]"
     ]
    },
    {
     "name": "stdout",
     "output_type": "stream",
     "text": [
      "Epoch 186: total=2.9526, nb=0.2075, size=0.0114, smooth=7.1706, cos_gene=1.5168, cos_cell=0.3874, kl_token=2416.6887\n"
     ]
    },
    {
     "name": "stderr",
     "output_type": "stream",
     "text": [
      " 94%|███████████████████████████████████████████████████████████████████████████████████████████████████████████▌       | 187/200 [08:06<00:33,  2.61s/it]"
     ]
    },
    {
     "name": "stdout",
     "output_type": "stream",
     "text": [
      "Epoch 187: total=2.9490, nb=0.2069, size=0.0081, smooth=6.7202, cos_gene=1.5421, cos_cell=0.3868, kl_token=2329.6674\n"
     ]
    },
    {
     "name": "stderr",
     "output_type": "stream",
     "text": [
      " 94%|████████████████████████████████████████████████████████████████████████████████████████████████████████████       | 188/200 [08:09<00:31,  2.62s/it]"
     ]
    },
    {
     "name": "stdout",
     "output_type": "stream",
     "text": [
      "Epoch 188: total=2.9391, nb=0.2075, size=0.0081, smooth=6.8722, cos_gene=1.5057, cos_cell=0.3869, kl_token=2404.5074\n"
     ]
    },
    {
     "name": "stderr",
     "output_type": "stream",
     "text": [
      " 94%|████████████████████████████████████████████████████████████████████████████████████████████████████████████▋      | 189/200 [08:11<00:28,  2.61s/it]"
     ]
    },
    {
     "name": "stdout",
     "output_type": "stream",
     "text": [
      "Epoch 189: total=2.9291, nb=0.2071, size=0.0063, smooth=6.9990, cos_gene=1.5037, cos_cell=0.3841, kl_token=2381.4674\n"
     ]
    },
    {
     "name": "stderr",
     "output_type": "stream",
     "text": [
      " 95%|█████████████████████████████████████████████████████████████████████████████████████████████████████████████▎     | 190/200 [08:14<00:26,  2.64s/it]"
     ]
    },
    {
     "name": "stdout",
     "output_type": "stream",
     "text": [
      "Epoch 190: total=2.9441, nb=0.2067, size=0.0118, smooth=6.8988, cos_gene=1.5222, cos_cell=0.3851, kl_token=2334.0410\n"
     ]
    },
    {
     "name": "stderr",
     "output_type": "stream",
     "text": [
      " 96%|█████████████████████████████████████████████████████████████████████████████████████████████████████████████▊     | 191/200 [08:16<00:23,  2.58s/it]"
     ]
    },
    {
     "name": "stdout",
     "output_type": "stream",
     "text": [
      "Epoch 191: total=2.9529, nb=0.2076, size=0.0035, smooth=6.9823, cos_gene=1.5191, cos_cell=0.3875, kl_token=2387.4825\n"
     ]
    },
    {
     "name": "stderr",
     "output_type": "stream",
     "text": [
      " 96%|██████████████████████████████████████████████████████████████████████████████████████████████████████████████▍    | 192/200 [08:19<00:20,  2.55s/it]"
     ]
    },
    {
     "name": "stdout",
     "output_type": "stream",
     "text": [
      "Epoch 192: total=2.9325, nb=0.2074, size=0.0062, smooth=6.9884, cos_gene=1.5056, cos_cell=0.3855, kl_token=2344.8799\n"
     ]
    },
    {
     "name": "stderr",
     "output_type": "stream",
     "text": [
      " 96%|██████████████████████████████████████████████████████████████████████████████████████████████████████████████▉    | 193/200 [08:22<00:18,  2.61s/it]"
     ]
    },
    {
     "name": "stdout",
     "output_type": "stream",
     "text": [
      "Epoch 193: total=3.0039, nb=0.2080, size=0.0086, smooth=7.0993, cos_gene=1.5342, cos_cell=0.3893, kl_token=2473.5226\n"
     ]
    },
    {
     "name": "stderr",
     "output_type": "stream",
     "text": [
      " 97%|███████████████████████████████████████████████████████████████████████████████████████████████████████████████▌   | 194/200 [08:24<00:15,  2.62s/it]"
     ]
    },
    {
     "name": "stdout",
     "output_type": "stream",
     "text": [
      "Epoch 194: total=2.9258, nb=0.2066, size=0.0133, smooth=6.7356, cos_gene=1.5014, cos_cell=0.3863, kl_token=2294.7148\n"
     ]
    },
    {
     "name": "stderr",
     "output_type": "stream",
     "text": [
      " 98%|████████████████████████████████████████████████████████████████████████████████████████████████████████████████▏  | 195/200 [08:27<00:13,  2.62s/it]"
     ]
    },
    {
     "name": "stdout",
     "output_type": "stream",
     "text": [
      "Epoch 195: total=2.9221, nb=0.2067, size=0.0052, smooth=7.2980, cos_gene=1.5005, cos_cell=0.3842, kl_token=2294.0459\n"
     ]
    },
    {
     "name": "stderr",
     "output_type": "stream",
     "text": [
      " 98%|████████████████████████████████████████████████████████████████████████████████████████████████████████████████▋  | 196/200 [08:29<00:10,  2.60s/it]"
     ]
    },
    {
     "name": "stdout",
     "output_type": "stream",
     "text": [
      "Epoch 196: total=2.9344, nb=0.2061, size=0.0126, smooth=7.0133, cos_gene=1.5063, cos_cell=0.3879, kl_token=2281.4343\n"
     ]
    },
    {
     "name": "stderr",
     "output_type": "stream",
     "text": [
      " 98%|█████████████████████████████████████████████████████████████████████████████████████████████████████████████████▎ | 197/200 [08:32<00:07,  2.60s/it]"
     ]
    },
    {
     "name": "stdout",
     "output_type": "stream",
     "text": [
      "Epoch 197: total=2.9431, nb=0.2073, size=0.0119, smooth=7.1039, cos_gene=1.5012, cos_cell=0.3863, kl_token=2312.1433\n"
     ]
    },
    {
     "name": "stderr",
     "output_type": "stream",
     "text": [
      " 99%|█████████████████████████████████████████████████████████████████████████████████████████████████████████████████▊ | 198/200 [08:35<00:05,  2.56s/it]"
     ]
    },
    {
     "name": "stdout",
     "output_type": "stream",
     "text": [
      "Epoch 198: total=2.9283, nb=0.2065, size=0.0052, smooth=6.9438, cos_gene=1.5038, cos_cell=0.3861, kl_token=2266.9754\n"
     ]
    },
    {
     "name": "stderr",
     "output_type": "stream",
     "text": [
      "100%|██████████████████████████████████████████████████████████████████████████████████████████████████████████████████▍| 199/200 [08:37<00:02,  2.56s/it]"
     ]
    },
    {
     "name": "stdout",
     "output_type": "stream",
     "text": [
      "Epoch 199: total=2.9341, nb=0.2065, size=0.0063, smooth=7.4049, cos_gene=1.5085, cos_cell=0.3901, kl_token=2231.6974\n"
     ]
    },
    {
     "name": "stderr",
     "output_type": "stream",
     "text": [
      "100%|███████████████████████████████████████████████████████████████████████████████████████████████████████████████████| 200/200 [08:40<00:00,  2.60s/it]"
     ]
    },
    {
     "name": "stdout",
     "output_type": "stream",
     "text": [
      "Epoch 200: total=2.9332, nb=0.2064, size=0.0047, smooth=7.1329, cos_gene=1.4980, cos_cell=0.3867, kl_token=2285.0623\n"
     ]
    },
    {
     "name": "stderr",
     "output_type": "stream",
     "text": [
      "\n"
     ]
    }
   ],
   "source": [
    "# train the backbone model\n",
    "micro.train( spot_coord = adata.obs[['pixel_y', 'pixel_x']].values, \n",
    "             spot_radius = 76,\n",
    "             spot_count = adata.X.astype(np.float32),\n",
    "             genes = adata.var_names.tolist()\n",
    "          )"
   ]
  },
  {
   "cell_type": "code",
   "execution_count": 7,
   "id": "f4f0031d-5fcd-47d6-b7bc-3943e5b3bcb1",
   "metadata": {},
   "outputs": [
    {
     "data": {
      "text/plain": [
       "AnnData object with n_obs × n_vars = 370440 × 15029\n",
       "    obs: 'patch_y', 'patch_x'\n",
       "    obsm: 'spatial', 'latent'"
      ]
     },
     "execution_count": 7,
     "metadata": {},
     "output_type": "execute_result"
    }
   ],
   "source": [
    "# prediction\n",
    "( adata_hir, adata_mask, _) = micro.predict(  genes = adata.var_names.tolist())\n",
    "adata_hir # High-resolution gene expression across the entire H&E image"
   ]
  },
  {
   "cell_type": "code",
   "execution_count": 8,
   "id": "539111a7-9a3e-4363-993d-0fd5c8eea097",
   "metadata": {},
   "outputs": [
    {
     "data": {
      "text/plain": [
       "AnnData object with n_obs × n_vars = 209433 × 15029\n",
       "    obs: 'patch_y', 'patch_x'\n",
       "    obsm: 'spatial', 'latent'"
      ]
     },
     "execution_count": 8,
     "metadata": {},
     "output_type": "execute_result"
    }
   ],
   "source": [
    "adata_mask # High-resolution gene expression within tissue regions"
   ]
  },
  {
   "cell_type": "code",
   "execution_count": null,
   "id": "1d54cddb-b092-4919-b5c9-fcb6db43fd41",
   "metadata": {},
   "outputs": [],
   "source": []
  }
 ],
 "metadata": {
  "kernelspec": {
   "display_name": "Python 3 (ipykernel)",
   "language": "python",
   "name": "python3"
  },
  "language_info": {
   "codemirror_mode": {
    "name": "ipython",
    "version": 3
   },
   "file_extension": ".py",
   "mimetype": "text/x-python",
   "name": "python",
   "nbconvert_exporter": "python",
   "pygments_lexer": "ipython3",
   "version": "3.9.21"
  }
 },
 "nbformat": 4,
 "nbformat_minor": 5
}
